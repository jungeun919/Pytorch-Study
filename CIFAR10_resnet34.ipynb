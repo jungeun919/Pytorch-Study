{
  "nbformat": 4,
  "nbformat_minor": 0,
  "metadata": {
    "colab": {
      "name": "CIFAR10_resnet34.ipynb",
      "provenance": [],
      "collapsed_sections": [],
      "authorship_tag": "ABX9TyNZ0fFK0p7xVoPcw51hmbUL",
      "include_colab_link": true
    },
    "kernelspec": {
      "name": "python3",
      "display_name": "Python 3"
    },
    "accelerator": "GPU"
  },
  "cells": [
    {
      "cell_type": "markdown",
      "metadata": {
        "id": "view-in-github",
        "colab_type": "text"
      },
      "source": [
        "<a href=\"https://colab.research.google.com/github/jungeun919/Pytorch_study/blob/main/CIFAR10_resnet34.ipynb\" target=\"_parent\"><img src=\"https://colab.research.google.com/assets/colab-badge.svg\" alt=\"Open In Colab\"/></a>"
      ]
    },
    {
      "cell_type": "code",
      "metadata": {
        "colab": {
          "base_uri": "https://localhost:8080/"
        },
        "id": "VB_0w1JSIQb1",
        "outputId": "d9f8d00a-5631-4b95-ca6e-265e5ffa330b"
      },
      "source": [
        "import torch\r\n",
        "import torchvision\r\n",
        "import torchvision.transforms as transforms\r\n",
        "\r\n",
        "\r\n",
        "transform = transforms.Compose(\r\n",
        "    [transforms.ToTensor(),\r\n",
        "     transforms.Normalize((0.5, 0.5, 0.5), (0.5, 0.5, 0.5))])\r\n",
        "\r\n",
        "trainset = torchvision.datasets.CIFAR10(root='./data', train=True,\r\n",
        "                                        download=True, transform=transform)\r\n",
        "trainloader = torch.utils.data.DataLoader(trainset, batch_size=100,\r\n",
        "                                          shuffle=True, num_workers=2)\r\n",
        "\r\n",
        "testset = torchvision.datasets.CIFAR10(root='./data', train=False,\r\n",
        "                                       download=True, transform=transform)\r\n",
        "testloader = torch.utils.data.DataLoader(testset, batch_size=100,\r\n",
        "                                         shuffle=False, num_workers=2)\r\n",
        "\r\n",
        "classes = ('plane', 'car', 'bird', 'cat', 'deer', 'dog', 'frog', 'horse', 'ship', 'truck')"
      ],
      "execution_count": 4,
      "outputs": [
        {
          "output_type": "stream",
          "text": [
            "Files already downloaded and verified\n",
            "Files already downloaded and verified\n"
          ],
          "name": "stdout"
        }
      ]
    },
    {
      "cell_type": "code",
      "metadata": {
        "colab": {
          "base_uri": "https://localhost:8080/"
        },
        "id": "oeBlX_JDIfPN",
        "outputId": "c886357d-3c79-42e7-91b4-e8e7b0f45edc"
      },
      "source": [
        "# 신경망 학습 resnet34\r\n",
        "from torchvision.models import resnet34\r\n",
        "import torch.optim as optim\r\n",
        "\r\n",
        "\r\n",
        "model = resnet34(pretrained=True)\r\n",
        "model.fc = nn.Linear(model.fc.in_features, 10)\r\n",
        "\r\n",
        "device = torch.device('cuda:0' if torch.cuda.is_available() else 'cpu')\r\n",
        "model = model.to(device)\r\n",
        "\r\n",
        "criterion = nn.CrossEntropyLoss().to(device)\r\n",
        "optimizer = optim.SGD(model.parameters(), lr=1e-3, momentum=0.9)\r\n",
        "\r\n",
        "\r\n",
        "model.train()\r\n",
        "for epoch in range(2):\r\n",
        "  # running_loss = 0.0\r\n",
        "  for i, data in enumerate(trainloader):\r\n",
        "    inputs, labels = data[0].to(device), data[1].to(device)\r\n",
        "    optimizer.zero_grad()\r\n",
        "\r\n",
        "    outputs = model(inputs)\r\n",
        "    loss = criterion(outputs, labels)\r\n",
        "    loss.backward()\r\n",
        "    optimizer.step()\r\n",
        "\r\n",
        "    # running_loss += loss.item()\r\n",
        "    if i % 100 == 0:\r\n",
        "      print('[%d, %5d] loss: %.3f' % (epoch+1, i+1, loss.item()))\r\n",
        "\r\n",
        "print('Finished Training')"
      ],
      "execution_count": 13,
      "outputs": [
        {
          "output_type": "stream",
          "text": [
            "[1,     1] loss: 2.707\n",
            "[1,   101] loss: 1.350\n",
            "[1,   201] loss: 1.005\n",
            "[1,   301] loss: 0.961\n",
            "[1,   401] loss: 0.973\n",
            "[2,     1] loss: 0.594\n",
            "[2,   101] loss: 0.627\n",
            "[2,   201] loss: 0.722\n",
            "[2,   301] loss: 0.651\n",
            "[2,   401] loss: 0.573\n",
            "Finished Training\n"
          ],
          "name": "stdout"
        }
      ]
    },
    {
      "cell_type": "code",
      "metadata": {
        "id": "UyphhVXEIiPu",
        "colab": {
          "base_uri": "https://localhost:8080/"
        },
        "outputId": "3c7d4575-3861-40e7-ee52-956a26350ba6"
      },
      "source": [
        "# 전체 데이터셋의 정확도\r\n",
        "correct, total = 0, 0\r\n",
        "with torch.no_grad():\r\n",
        "  for data in testloader:\r\n",
        "    images, labels = data[0].to(device), data[1].to(device)\r\n",
        "    outputs = model(images)\r\n",
        "    _, predicted = torch.max(outputs.data, 1)\r\n",
        "    total += labels.size(0)\r\n",
        "    correct += (predicted == labels).sum().item()\r\n",
        "\r\n",
        "print('Accuracy 10000 test images: %d %%' % (100 * correct / total))\r\n",
        "\r\n",
        "\r\n",
        "# 각 클래스의 정확도\r\n",
        "class_correct = list(0. for i in range(10))\r\n",
        "class_total = list(0. for i in range(10))\r\n",
        "with torch.no_grad():\r\n",
        "  for data in testloader:\r\n",
        "    images, labels = data[0].to(device), data[1].to(device)\r\n",
        "    outputs = model(images)\r\n",
        "    _, predicted = torch.max(outputs, 1)\r\n",
        "    c = (predicted == labels.squeeze())\r\n",
        "    for i in range(4):\r\n",
        "      label = labels[i]\r\n",
        "      class_correct[label] += c[i].item()\r\n",
        "      class_total[label] += 1\r\n",
        "\r\n",
        "\r\n",
        "for i in range(10):\r\n",
        "  print('Accuracy of %5s : %2d %%' % (classes[i], 100 * class_correct[i] / class_total[i]))"
      ],
      "execution_count": 14,
      "outputs": [
        {
          "output_type": "stream",
          "text": [
            "Accuracy 10000 test images: 76 %\n",
            "Accuracy of plane : 88 %\n",
            "Accuracy of   car : 90 %\n",
            "Accuracy of  bird : 68 %\n",
            "Accuracy of   cat : 76 %\n",
            "Accuracy of  deer : 69 %\n",
            "Accuracy of   dog : 71 %\n",
            "Accuracy of  frog : 88 %\n",
            "Accuracy of horse : 84 %\n",
            "Accuracy of  ship : 91 %\n",
            "Accuracy of truck : 65 %\n"
          ],
          "name": "stdout"
        }
      ]
    }
  ]
}