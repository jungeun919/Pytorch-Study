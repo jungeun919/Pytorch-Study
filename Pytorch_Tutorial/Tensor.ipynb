{
  "nbformat": 4,
  "nbformat_minor": 0,
  "metadata": {
    "colab": {
      "name": "Tensor.ipynb",
      "provenance": [],
      "collapsed_sections": [],
      "authorship_tag": "ABX9TyNYu9ifcGYgFFB8VbY0WN5M",
      "include_colab_link": true
    },
    "kernelspec": {
      "name": "python3",
      "display_name": "Python 3"
    }
  },
  "cells": [
    {
      "cell_type": "markdown",
      "metadata": {
        "id": "view-in-github",
        "colab_type": "text"
      },
      "source": [
        "<a href=\"https://colab.research.google.com/github/jungeun919/Pytorch_study/blob/main/Pytorch_Tutorial/Tensor.ipynb\" target=\"_parent\"><img src=\"https://colab.research.google.com/assets/colab-badge.svg\" alt=\"Open In Colab\"/></a>"
      ]
    },
    {
      "cell_type": "markdown",
      "metadata": {
        "id": "WxkDkEeluLdp"
      },
      "source": [
        "# Tensor\r\n",
        "\r\n",
        "- 배열 및 행렬과 유사한 특수 데이터 구조\r\n",
        "- GPU에서 실행한다는 점을 제외하면 Numpy의 ndarray와 유사\r\n",
        "- 텐서 및 Numpy 배열은 동일한 기본 메모리를 공유할 수 있음\r\n",
        "- 자동 미분에 최적화화"
      ]
    },
    {
      "cell_type": "code",
      "metadata": {
        "id": "Nw8bjkDZt-v9"
      },
      "source": [
        "import torch\r\n",
        "import numpy as np"
      ],
      "execution_count": 1,
      "outputs": []
    },
    {
      "cell_type": "markdown",
      "metadata": {
        "id": "dSfkeF7fv5N1"
      },
      "source": [
        "# Tensor 초기화"
      ]
    },
    {
      "cell_type": "code",
      "metadata": {
        "id": "2DvsoW5Yv4kx"
      },
      "source": [
        "# 데이터에서 직접 생성, 데이터형은 자동으로 유추됨\r\n",
        "data = [[1, 2], [3, 4]]\r\n",
        "x_data = torch.tensor(data)"
      ],
      "execution_count": 2,
      "outputs": []
    },
    {
      "cell_type": "code",
      "metadata": {
        "id": "1PBne9dNwHuA"
      },
      "source": [
        "# Numpy 배열에서 생성\r\n",
        "np_array = np.array(data)\r\n",
        "x_np = torch.from_numpy(np_array)"
      ],
      "execution_count": 3,
      "outputs": []
    },
    {
      "cell_type": "code",
      "metadata": {
        "colab": {
          "base_uri": "https://localhost:8080/"
        },
        "id": "GdwiKRs_wUxi",
        "outputId": "880bf723-f9d3-44b1-97fa-85e16f152005"
      },
      "source": [
        "# 다른 텐서에서\r\n",
        "x_ones = torch.ones_like(x_data)\r\n",
        "print(f\"Ones Tensor: \\n {x_ones} \\n\")\r\n",
        "\r\n",
        "x_rand = torch.rand_like(x_data, dtype=torch.float)\r\n",
        "print(f\"Random Tensor: \\n {x_rand} \\n\")"
      ],
      "execution_count": 4,
      "outputs": [
        {
          "output_type": "stream",
          "text": [
            "Ones Tensor: \n",
            " tensor([[1, 1],\n",
            "        [1, 1]]) \n",
            "\n",
            "Random Tensor: \n",
            " tensor([[0.5545, 0.5203],\n",
            "        [0.6080, 0.0484]]) \n",
            "\n"
          ],
          "name": "stdout"
        }
      ]
    },
    {
      "cell_type": "code",
      "metadata": {
        "colab": {
          "base_uri": "https://localhost:8080/"
        },
        "id": "4YJdVuGrwuUG",
        "outputId": "6e50459c-ab1a-493e-fd0f-8f1b09ef32aa"
      },
      "source": [
        "# 임의 또는 상수값 사용\r\n",
        "shape = (2, 3,)\r\n",
        "rand_tensor = torch.rand(shape)\r\n",
        "ones_tensor = torch.ones(shape)\r\n",
        "zeros_tensor = torch.zeros(shape)\r\n",
        "\r\n",
        "print(f\"Random Tensor: \\n {rand_tensor} \\n\")\r\n",
        "print(f\"Ones Tensor: \\n {ones_tensor} \\n\")\r\n",
        "print(f\"Zeros Tensor: \\n {zeros_tensor} \\n\")"
      ],
      "execution_count": 5,
      "outputs": [
        {
          "output_type": "stream",
          "text": [
            "Random Tensor: \n",
            " tensor([[0.9976, 0.2934, 0.6494],\n",
            "        [0.6367, 0.1018, 0.2740]]) \n",
            "\n",
            "Ones Tensor: \n",
            " tensor([[1., 1., 1.],\n",
            "        [1., 1., 1.]]) \n",
            "\n",
            "Zeros Tensor: \n",
            " tensor([[0., 0., 0.],\n",
            "        [0., 0., 0.]]) \n",
            "\n"
          ],
          "name": "stdout"
        }
      ]
    },
    {
      "cell_type": "markdown",
      "metadata": {
        "id": "cflPPoxGxNwr"
      },
      "source": [
        "# Tensor의 속성"
      ]
    },
    {
      "cell_type": "code",
      "metadata": {
        "colab": {
          "base_uri": "https://localhost:8080/"
        },
        "id": "7VmydzV-xKfX",
        "outputId": "9b4b7393-ef03-4a94-8f00-6b2d30a7e65a"
      },
      "source": [
        "tensor = torch.rand(3, 4)\r\n",
        "\r\n",
        "print(f\"Shape of tensor: {tensor.shape}\")\r\n",
        "print(f\"Datatype of tensor: {tensor.dtype}\")\r\n",
        "print(f\"Device tensor is stored on: {tensor.device}\")"
      ],
      "execution_count": 6,
      "outputs": [
        {
          "output_type": "stream",
          "text": [
            "Shape of tensor: torch.Size([3, 4])\n",
            "Datatype of tensor: torch.float32\n",
            "Device tensor is stored on: cpu\n"
          ],
          "name": "stdout"
        }
      ]
    },
    {
      "cell_type": "markdown",
      "metadata": {
        "id": "F67XO0ZBxwm3"
      },
      "source": [
        "# Tensor에 대한 작업"
      ]
    },
    {
      "cell_type": "code",
      "metadata": {
        "id": "qW28BZXrxiVU"
      },
      "source": [
        "if torch.cuda.is_available():\r\n",
        "    tensor = tensor.to('cuda')"
      ],
      "execution_count": 7,
      "outputs": []
    },
    {
      "cell_type": "code",
      "metadata": {
        "colab": {
          "base_uri": "https://localhost:8080/"
        },
        "id": "GjFsKm2dx5zy",
        "outputId": "57794922-24e0-423c-c033-5db23d4532e5"
      },
      "source": [
        "# 인덱싱 및 슬라이싱\r\n",
        "tensor = torch.ones(4, 4)\r\n",
        "print(\"First row: \", tensor[0])\r\n",
        "print(\"First column: \", tensor[:, 0])\r\n",
        "print(\"Last column: \", tensor[..., -1])\r\n",
        "\r\n",
        "tensor[:, 1] = 0\r\n",
        "print(tensor)"
      ],
      "execution_count": 8,
      "outputs": [
        {
          "output_type": "stream",
          "text": [
            "First row:  tensor([1., 1., 1., 1.])\n",
            "First column:  tensor([1., 1., 1., 1.])\n",
            "Last column:  tensor([1., 1., 1., 1.])\n",
            "tensor([[1., 0., 1., 1.],\n",
            "        [1., 0., 1., 1.],\n",
            "        [1., 0., 1., 1.],\n",
            "        [1., 0., 1., 1.]])\n"
          ],
          "name": "stdout"
        }
      ]
    },
    {
      "cell_type": "code",
      "metadata": {
        "colab": {
          "base_uri": "https://localhost:8080/"
        },
        "id": "3_t_HJ28ySrm",
        "outputId": "ad7d8676-1fd0-451e-fda2-0dd0f54fe2cd"
      },
      "source": [
        "# tensor 결합\r\n",
        "t1 = torch.cat([tensor, tensor, tensor], dim=1)\r\n",
        "print(t1)"
      ],
      "execution_count": 9,
      "outputs": [
        {
          "output_type": "stream",
          "text": [
            "tensor([[1., 0., 1., 1., 1., 0., 1., 1., 1., 0., 1., 1.],\n",
            "        [1., 0., 1., 1., 1., 0., 1., 1., 1., 0., 1., 1.],\n",
            "        [1., 0., 1., 1., 1., 0., 1., 1., 1., 0., 1., 1.],\n",
            "        [1., 0., 1., 1., 1., 0., 1., 1., 1., 0., 1., 1.]])\n"
          ],
          "name": "stdout"
        }
      ]
    },
    {
      "cell_type": "code",
      "metadata": {
        "colab": {
          "base_uri": "https://localhost:8080/"
        },
        "id": "H-nE41yqyf-t",
        "outputId": "0405263d-694f-4b9e-da84-aa4f23b57eb0"
      },
      "source": [
        "# 산술 연산\r\n",
        "y1 = tensor @ tensor.T\r\n",
        "y2 = tensor.matmul(tensor.T)\r\n",
        "print(y2)\r\n",
        "\r\n",
        "y3 = torch.rand_like(tensor)\r\n",
        "torch.matmul(tensor, tensor.T, out=y3)\r\n",
        "print(y3)\r\n",
        "\r\n",
        "z1 = tensor * tensor\r\n",
        "z2 = tensor.mul(tensor)\r\n",
        "print(z2)\r\n",
        "\r\n",
        "z3 = torch.rand_like(tensor)\r\n",
        "torch.mul(tensor, tensor, out=z3)\r\n",
        "print(z3)"
      ],
      "execution_count": 10,
      "outputs": [
        {
          "output_type": "stream",
          "text": [
            "tensor([[3., 3., 3., 3.],\n",
            "        [3., 3., 3., 3.],\n",
            "        [3., 3., 3., 3.],\n",
            "        [3., 3., 3., 3.]])\n",
            "tensor([[3., 3., 3., 3.],\n",
            "        [3., 3., 3., 3.],\n",
            "        [3., 3., 3., 3.],\n",
            "        [3., 3., 3., 3.]])\n",
            "tensor([[1., 0., 1., 1.],\n",
            "        [1., 0., 1., 1.],\n",
            "        [1., 0., 1., 1.],\n",
            "        [1., 0., 1., 1.]])\n",
            "tensor([[1., 0., 1., 1.],\n",
            "        [1., 0., 1., 1.],\n",
            "        [1., 0., 1., 1.],\n",
            "        [1., 0., 1., 1.]])\n"
          ],
          "name": "stdout"
        }
      ]
    },
    {
      "cell_type": "code",
      "metadata": {
        "colab": {
          "base_uri": "https://localhost:8080/"
        },
        "id": "JFGiu_LxzUj3",
        "outputId": "e5a76bd3-1974-41af-b5ee-c5d3c49facc9"
      },
      "source": [
        "# 단일 요소 tensor\r\n",
        "agg = tensor.sum()\r\n",
        "agg_item = agg.item()\r\n",
        "print(agg_item, type(agg_item))"
      ],
      "execution_count": 11,
      "outputs": [
        {
          "output_type": "stream",
          "text": [
            "12.0 <class 'float'>\n"
          ],
          "name": "stdout"
        }
      ]
    },
    {
      "cell_type": "code",
      "metadata": {
        "colab": {
          "base_uri": "https://localhost:8080/"
        },
        "id": "78ZS2uYLzmff",
        "outputId": "61256dd5-8b32-4de3-a044-168fb8837539"
      },
      "source": [
        "# in-place 연산: 연산 결과를 피연산자에 저장하는 연산\r\n",
        "print(tensor, \"\\n\")\r\n",
        "tensor.add_(5)\r\n",
        "print(tensor)"
      ],
      "execution_count": 12,
      "outputs": [
        {
          "output_type": "stream",
          "text": [
            "tensor([[1., 0., 1., 1.],\n",
            "        [1., 0., 1., 1.],\n",
            "        [1., 0., 1., 1.],\n",
            "        [1., 0., 1., 1.]]) \n",
            "\n",
            "tensor([[6., 5., 6., 6.],\n",
            "        [6., 5., 6., 6.],\n",
            "        [6., 5., 6., 6.],\n",
            "        [6., 5., 6., 6.]])\n"
          ],
          "name": "stdout"
        }
      ]
    },
    {
      "cell_type": "markdown",
      "metadata": {
        "id": "2DapuuED0Zj8"
      },
      "source": [
        "# Tensor to Numpy 배열\r\n",
        "\r\n",
        "- CPU 및 Numpy 배열의 텐서는 기본 메모리 위치를 공유할 수 있으며\r\n",
        "- 하나를 변경하면 다른 하나도 변경"
      ]
    },
    {
      "cell_type": "code",
      "metadata": {
        "colab": {
          "base_uri": "https://localhost:8080/"
        },
        "id": "RQV7jpbZz6m5",
        "outputId": "8eab1de9-6721-46e6-8bd7-97b99df1a44d"
      },
      "source": [
        "t = torch.ones(5)\r\n",
        "print(f\"t: {t}\")\r\n",
        "n = t.numpy()\r\n",
        "print(f\"n: {n}\")"
      ],
      "execution_count": 13,
      "outputs": [
        {
          "output_type": "stream",
          "text": [
            "t: tensor([1., 1., 1., 1., 1.])\n",
            "n: [1. 1. 1. 1. 1.]\n"
          ],
          "name": "stdout"
        }
      ]
    },
    {
      "cell_type": "code",
      "metadata": {
        "colab": {
          "base_uri": "https://localhost:8080/"
        },
        "id": "NR5nVc6t0nQ3",
        "outputId": "540ea848-5ffd-4b53-94a7-894b80cb0f3c"
      },
      "source": [
        "# tensor의 변경은 Numpy 배열에 반영\r\n",
        "t.add(1)\r\n",
        "print(f\"t: {t}\")\r\n",
        "print(f\"n: {n}\")"
      ],
      "execution_count": 14,
      "outputs": [
        {
          "output_type": "stream",
          "text": [
            "t: tensor([1., 1., 1., 1., 1.])\n",
            "n: [1. 1. 1. 1. 1.]\n"
          ],
          "name": "stdout"
        }
      ]
    },
    {
      "cell_type": "markdown",
      "metadata": {
        "id": "tS2nv2Lg00fG"
      },
      "source": [
        "# Numpy 배열을 Tensor로"
      ]
    },
    {
      "cell_type": "code",
      "metadata": {
        "colab": {
          "base_uri": "https://localhost:8080/"
        },
        "id": "N6ARIWPh0yRV",
        "outputId": "c1dd4d4b-92ad-4cbe-a317-0711bd1d74f3"
      },
      "source": [
        "n = np.ones(5)\r\n",
        "t = torch.from_numpy(n)\r\n",
        "\r\n",
        "print(f\"n: {n}\")\r\n",
        "print(f\"t: {t}\")"
      ],
      "execution_count": 15,
      "outputs": [
        {
          "output_type": "stream",
          "text": [
            "n: [1. 1. 1. 1. 1.]\n",
            "t: tensor([1., 1., 1., 1., 1.], dtype=torch.float64)\n"
          ],
          "name": "stdout"
        }
      ]
    },
    {
      "cell_type": "code",
      "metadata": {
        "colab": {
          "base_uri": "https://localhost:8080/"
        },
        "id": "o6Mxs8U-1AiW",
        "outputId": "ce5820d9-2c1d-467a-cf54-a4b39ee648a0"
      },
      "source": [
        "# Numpy 배열의 변경은 tensor에 반영\r\n",
        "np.add(n, 1, out=n)\r\n",
        "print(f\"n: {n}\")\r\n",
        "print(f\"t: {t}\")"
      ],
      "execution_count": 16,
      "outputs": [
        {
          "output_type": "stream",
          "text": [
            "n: [2. 2. 2. 2. 2.]\n",
            "t: tensor([2., 2., 2., 2., 2.], dtype=torch.float64)\n"
          ],
          "name": "stdout"
        }
      ]
    }
  ]
}