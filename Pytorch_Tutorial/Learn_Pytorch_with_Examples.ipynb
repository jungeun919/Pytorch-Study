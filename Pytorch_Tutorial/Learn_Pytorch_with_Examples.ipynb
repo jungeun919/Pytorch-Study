{
  "nbformat": 4,
  "nbformat_minor": 0,
  "metadata": {
    "colab": {
      "name": "Learn_Pytorch_with_Examples.ipynb",
      "provenance": [],
      "authorship_tag": "ABX9TyMcxnq6asdWiWHKl9F897ZG",
      "include_colab_link": true
    },
    "kernelspec": {
      "name": "python3",
      "display_name": "Python 3"
    },
    "language_info": {
      "name": "python"
    }
  },
  "cells": [
    {
      "cell_type": "markdown",
      "metadata": {
        "id": "view-in-github",
        "colab_type": "text"
      },
      "source": [
        "<a href=\"https://colab.research.google.com/github/jungeun919/Pytorch_study/blob/main/Pytorch_Tutorial/Learn_Pytorch_with_Examples.ipynb\" target=\"_parent\"><img src=\"https://colab.research.google.com/assets/colab-badge.svg\" alt=\"Open In Colab\"/></a>"
      ]
    },
    {
      "cell_type": "markdown",
      "metadata": {
        "id": "Le5wmcZCOJJd"
      },
      "source": [
        "# Numpy로 네트워크 구현\n",
        "\n",
        "- Numpy는 GPU를 사용하여 수치 계산을 가속화 할 수 없음"
      ]
    },
    {
      "cell_type": "code",
      "metadata": {
        "colab": {
          "base_uri": "https://localhost:8080/"
        },
        "id": "bLIGCwX_N5Q_",
        "outputId": "4a839895-b561-49e3-ab20-9f0066e53ab0"
      },
      "source": [
        "import numpy as np\n",
        "import math\n",
        "\n",
        "\n",
        "# random input and output data\n",
        "x = np.linspace(-math.pi, math.pi, 2000)\n",
        "y = np.sin(x)\n",
        "\n",
        "# 가중치 랜덤 초기화\n",
        "a = np.random.randn()\n",
        "b = np.random.randn()\n",
        "c = np.random.randn()\n",
        "d = np.random.randn()\n",
        "\n",
        "learning_rate= 1e-6\n",
        "for t in range(2000):\n",
        "    # y = a + b x + c x^2 + d x^3\n",
        "    y_pred = a + b * x + c * x ** 2 + d * x ** 3\n",
        "\n",
        "    loss = np.square(y_pred - y).sum()\n",
        "    if t % 100 == 99:\n",
        "        print(t, loss)\n",
        "\n",
        "    # 역전파\n",
        "    grad_y_pred = 2.0 * (y_pred - y)\n",
        "    grad_a = grad_y_pred.sum()\n",
        "    grad_b = (grad_y_pred * x).sum()\n",
        "    grad_c = (grad_y_pred * x ** 2).sum()\n",
        "    grad_d = (grad_y_pred * x ** 3).sum()\n",
        "\n",
        "    # 가중치 업데이트\n",
        "    a -= learning_rate * grad_a\n",
        "    b -= learning_rate * grad_b\n",
        "    c -= learning_rate * grad_c\n",
        "    d -= learning_rate * grad_d\n",
        "\n",
        "print(f\"Result: y = {a} + {b}x + {c}x^2 + {d}x^3\")"
      ],
      "execution_count": 1,
      "outputs": [
        {
          "output_type": "stream",
          "text": [
            "99 58.5792012617506\n",
            "199 42.25006490902771\n",
            "299 31.2982962184495\n",
            "399 23.94721073642355\n",
            "499 19.009009659247702\n",
            "599 15.688925600013523\n",
            "699 13.454812389408442\n",
            "799 11.950113456264061\n",
            "899 10.935747551891556\n",
            "999 10.25128113310081\n",
            "1099 9.788970856730401\n",
            "1199 9.476399095041078\n",
            "1299 9.264850080349525\n",
            "1399 9.121523434253717\n",
            "1499 9.02431445960672\n",
            "1599 8.958312433031477\n",
            "1699 8.913449593983099\n",
            "1799 8.882921412235918\n",
            "1899 8.8621242088965\n",
            "1999 8.847940075617029\n",
            "Result: y = -0.004226769240617829 + 0.8604841886350437x + 0.0007291880277503295x^2 + -0.09386284734934805x^3\n"
          ],
          "name": "stdout"
        }
      ]
    },
    {
      "cell_type": "markdown",
      "metadata": {
        "id": "W1Ss0xkaQJLt"
      },
      "source": [
        "# Tensor로 네트워크 구현"
      ]
    },
    {
      "cell_type": "code",
      "metadata": {
        "colab": {
          "base_uri": "https://localhost:8080/"
        },
        "id": "u-hRfCR9QCoV",
        "outputId": "22304145-d18c-4a9f-bd9c-d9fd7a76439b"
      },
      "source": [
        "import torch\n",
        "import math\n",
        "\n",
        "\n",
        "dtype = torch.float\n",
        "device = torch.device(\"cpu\")\n",
        "# GPU에서 실행할 경우\n",
        "# device = torch.device(\"cuda:0\")\n",
        "\n",
        "# random input and output data\n",
        "x = torch.linspace(-math.pi, math.pi, 2000, device=device, dtype=dtype)\n",
        "y = torch.sin(x)\n",
        "\n",
        "# 가중치 랜덤 초기화\n",
        "a = torch.randn((), device=device, dtype=dtype)\n",
        "b = torch.randn((), device=device, dtype=dtype)\n",
        "c = torch.randn((), device=device, dtype=dtype)\n",
        "d = torch.randn((), device=device, dtype=dtype)\n",
        "\n",
        "learning_rate = 1e-6\n",
        "for t in range(2000):\n",
        "    y_pred = a + b * x + c * x ** 2 + d * x ** 3\n",
        "\n",
        "    loss = (y_pred - y).pow(2).sum().item()\n",
        "    if t % 100 == 99:\n",
        "        print(t, loss)\n",
        "\n",
        "    # 역전파\n",
        "    grad_y_pred = 2.0 * (y_pred - y)\n",
        "    grad_a = grad_y_pred.sum()\n",
        "    grad_b = (grad_y_pred * x).sum()\n",
        "    grad_c = (grad_y_pred * x ** 2).sum()\n",
        "    grad_d = (grad_y_pred * x ** 3).sum()\n",
        "\n",
        "    # 가중치 업데이트\n",
        "    a -= learning_rate * grad_a\n",
        "    b -= learning_rate * grad_b\n",
        "    c -= learning_rate * grad_c\n",
        "    d -= learning_rate * grad_d\n",
        "\n",
        "print(f\"Result: y = {a.item()} + {b.item()}x + {c.item()}x^2 + {d.item()}x^3\")"
      ],
      "execution_count": 2,
      "outputs": [
        {
          "output_type": "stream",
          "text": [
            "99 969.1831665039062\n",
            "199 681.3494262695312\n",
            "299 480.0590515136719\n",
            "399 339.1997985839844\n",
            "499 240.56826782226562\n",
            "599 171.46426391601562\n",
            "699 123.0206298828125\n",
            "799 89.04234313964844\n",
            "899 65.19779968261719\n",
            "999 48.456504821777344\n",
            "1099 36.69710159301758\n",
            "1199 28.4334716796875\n",
            "1299 22.62396240234375\n",
            "1399 18.538135528564453\n",
            "1499 15.663555145263672\n",
            "1599 13.640427589416504\n",
            "1699 12.216072082519531\n",
            "1799 11.212965965270996\n",
            "1899 10.50631332397461\n",
            "1999 10.008365631103516\n",
            "Result: y = -0.035617757588624954 + 0.8492801785469055x + 0.0061446549370884895x^2 + -0.0922691747546196x^3\n"
          ],
          "name": "stdout"
        }
      ]
    },
    {
      "cell_type": "markdown",
      "metadata": {
        "id": "HGRgh0vrSHsw"
      },
      "source": [
        "# Autograd\n",
        "\n",
        "- 네트워크의 순방향: 계산 그래프 정의\n",
        "- 네트워크의 역방향: 기울기 계산\n",
        "- autograd를 사용하면 자동미분을 통해 역방향 계산을 자동화 할 수 있음"
      ]
    },
    {
      "cell_type": "code",
      "metadata": {
        "colab": {
          "base_uri": "https://localhost:8080/"
        },
        "id": "JvufVuiLSAVq",
        "outputId": "59438929-fac3-48ed-87bc-80f4eea2eb78"
      },
      "source": [
        "import torch\n",
        "import math\n",
        "\n",
        "\n",
        "dtype = torch.float\n",
        "device = torch.device(\"cpu\")\n",
        "\n",
        "# 입출력을 저장할 tensor 생성\n",
        "x = torch.linspace(-math.pi, math.pi, 2000, device=device, dtype=dtype)\n",
        "y = torch.sin(x)\n",
        "\n",
        "# 가중치 랜덤 생성\n",
        "a = torch.randn((), device=device, dtype=dtype, requires_grad=True)\n",
        "b = torch.randn((), device=device, dtype=dtype, requires_grad=True)\n",
        "c = torch.randn((), device=device, dtype=dtype, requires_grad=True)\n",
        "d = torch.randn((), device=device, dtype=dtype, requires_grad=True)\n",
        "\n",
        "learning_rate = 1e-6\n",
        "for t in range(2000):\n",
        "    # forward\n",
        "    y_pred = a + b * x + c * x ** 2 + d * x ** 3\n",
        "\n",
        "    loss = (y_pred - y).pow(2).sum()\n",
        "    if t % 100 == 99:\n",
        "        print(t, loss.item())\n",
        "\n",
        "    loss.backward()\n",
        "    \n",
        "    with torch.no_grad():\n",
        "        a -= learning_rate * a.grad\n",
        "        b -= learning_rate * b.grad\n",
        "        c -= learning_rate * c.grad\n",
        "        d -= learning_rate * d.grad\n",
        "\n",
        "        # 가중치 업데이트 후 gradient 0으로 초기화\n",
        "        a.grad = None\n",
        "        b.grad = None\n",
        "        c.grad = None\n",
        "        d.grad = None\n",
        "\n",
        "print(f\"Result: y = {a.item()} + {b.item()}x + {c.item()}x^2 + {d.item()}x^3\")"
      ],
      "execution_count": 3,
      "outputs": [
        {
          "output_type": "stream",
          "text": [
            "99 1687.673828125\n",
            "199 1120.4041748046875\n",
            "299 744.8753662109375\n",
            "399 496.25836181640625\n",
            "499 331.6490478515625\n",
            "599 222.6516571044922\n",
            "699 150.4713134765625\n",
            "799 102.66726684570312\n",
            "899 71.00382232666016\n",
            "999 50.02885055541992\n",
            "1099 36.13262939453125\n",
            "1199 26.924983978271484\n",
            "1299 20.823148727416992\n",
            "1399 16.77890396118164\n",
            "1499 14.097983360290527\n",
            "1599 12.320512771606445\n",
            "1699 11.141830444335938\n",
            "1799 10.360054016113281\n",
            "1899 9.841438293457031\n",
            "1999 9.497323989868164\n",
            "Result: y = -0.006986424792557955 + 0.83221435546875x + 0.0012052766978740692x^2 + -0.08984170854091644x^3\n"
          ],
          "name": "stdout"
        }
      ]
    },
    {
      "cell_type": "markdown",
      "metadata": {
        "id": "fMas-5LUVs8m"
      },
      "source": [
        "# nn Module"
      ]
    },
    {
      "cell_type": "code",
      "metadata": {
        "colab": {
          "base_uri": "https://localhost:8080/"
        },
        "id": "mWv2_7VpVu0M",
        "outputId": "62024558-f1eb-4f93-92df-7c687d603602"
      },
      "source": [
        "import torch\n",
        "import math\n",
        "\n",
        "\n",
        "x = torch.linspace(-math.pi, math.pi, 2000)\n",
        "y = torch.sin(x)\n",
        "\n",
        "# input tensor (x, x^2, x^3)\n",
        "# x.unsqueeze(-1) -> (2000, 1)\n",
        "# p -> (3,) -> (브로드캐스팅) (2000, 3)\n",
        "p = torch.tensor([1, 2, 3])\n",
        "xx = x.unsqueeze(-1).pow(p)\n",
        "\n",
        "model = torch.nn.Sequential(\n",
        "    torch.nn.Linear(3, 1),\n",
        "    torch.nn.Flatten(0, 1)\n",
        ")\n",
        "\n",
        "loss_fn = torch.nn.MSELoss(reduction='sum')\n",
        "\n",
        "learning_rate = 1e-6\n",
        "for t in range(2000):\n",
        "    # forward: x를 모델에 전달하여 예측값 y_pred를 계산\n",
        "    y_pred = model(xx)\n",
        "\n",
        "    loss = loss_fn(y_pred, y)\n",
        "    if t % 100 == 99:\n",
        "        print(t, loss.item())\n",
        "\n",
        "    # gradient 0으로 초기화\n",
        "    model.zero_grad()\n",
        "\n",
        "    # backward: loss의 기울기 계산\n",
        "    loss.backward()\n",
        "\n",
        "    # 경사하강법으로 가중치 업데이트\n",
        "    with torch.no_grad():\n",
        "        for param in model.parameters():\n",
        "            param -= learning_rate * param.grad\n",
        "\n",
        "\n",
        "linear_layer = model[0]\n",
        "\n",
        "print(f\"Result: y = {linear_layer.bias.item()} + {linear_layer.weight[:, 0]}x +\\\n",
        "      {linear_layer.weight[:, 1].item()}x^2 + {linear_layer.weight[:, 2].item()}x^3\")"
      ],
      "execution_count": 4,
      "outputs": [
        {
          "output_type": "stream",
          "text": [
            "99 1412.4658203125\n",
            "199 940.0906982421875\n",
            "299 626.823486328125\n",
            "399 419.03179931640625\n",
            "499 281.1739501953125\n",
            "599 189.6933135986328\n",
            "699 128.97349548339844\n",
            "799 88.66118621826172\n",
            "899 61.89052200317383\n",
            "999 44.10751724243164\n",
            "1099 32.2913703918457\n",
            "1199 24.437511444091797\n",
            "1299 19.215492248535156\n",
            "1399 15.742103576660156\n",
            "1499 13.430985450744629\n",
            "1599 11.892620086669922\n",
            "1699 10.868165016174316\n",
            "1799 10.18569564819336\n",
            "1899 9.730833053588867\n",
            "1999 9.427485466003418\n",
            "Result: y = -0.010259432718157768 + tensor([0.8347], grad_fn=<SelectBackward>)x +      0.0017699227901175618x^2 + -0.09018833935260773x^3\n"
          ],
          "name": "stdout"
        }
      ]
    },
    {
      "cell_type": "markdown",
      "metadata": {
        "id": "UYbO6kEQeEq3"
      },
      "source": [
        "# 최적화"
      ]
    },
    {
      "cell_type": "code",
      "metadata": {
        "colab": {
          "base_uri": "https://localhost:8080/"
        },
        "id": "lkO0a5Qpd8xA",
        "outputId": "41c21464-ef0b-4910-f63e-fffff21c0e41"
      },
      "source": [
        "import torch\n",
        "import math\n",
        "\n",
        "\n",
        "x = torch.linspace(-math.pi, math.pi, 2000)\n",
        "y = torch.sin(x)\n",
        "\n",
        "# input tensor (x, x^2, x^3)\n",
        "p = torch.tensor([1, 2, 3])\n",
        "xx = x.unsqueeze(-1).pow(p)\n",
        "\n",
        "model = torch.nn.Sequential(\n",
        "    torch.nn.Linear(3, 1),\n",
        "    torch.nn.Flatten(0, 1)\n",
        ")\n",
        "\n",
        "loss_fn = torch.nn.MSELoss(reduction='sum')\n",
        "\n",
        "# 가중치를 업데이트 할 optimizer: RMSprop\n",
        "learning_rate = 1e-3\n",
        "optimizer = torch.optim.RMSprop(model.parameters(), lr=learning_rate)\n",
        "\n",
        "for t in range(2000):\n",
        "    # forward\n",
        "    y_pred = model(xx)\n",
        "\n",
        "    loss = loss_fn(y_pred, y)\n",
        "    if t % 100 == 99:\n",
        "        print(t, loss.item())\n",
        "\n",
        "    optimizer.zero_grad()\n",
        "\n",
        "    # backward\n",
        "    loss.backward()\n",
        "    optimizer.step()\n",
        "\n",
        "\n",
        "linear_layer = model[0]\n",
        "\n",
        "print(f\"Result: y = {linear_layer.bias.item()} + {linear_layer.weight[:, 0]}x +\\\n",
        "      {linear_layer.weight[:, 1].item()}x^2 + {linear_layer.weight[:, 2].item()}x^3\")"
      ],
      "execution_count": 5,
      "outputs": [
        {
          "output_type": "stream",
          "text": [
            "99 12076.09765625\n",
            "199 4148.8369140625\n",
            "299 1298.625732421875\n",
            "399 583.816650390625\n",
            "499 471.20318603515625\n",
            "599 410.79815673828125\n",
            "699 337.67108154296875\n",
            "799 258.92864990234375\n",
            "899 185.15484619140625\n",
            "999 123.33406066894531\n",
            "1099 76.03056335449219\n",
            "1199 43.09998321533203\n",
            "1299 22.95142364501953\n",
            "1399 12.926902770996094\n",
            "1499 9.482279777526855\n",
            "1599 8.889137268066406\n",
            "1699 8.847436904907227\n",
            "1799 8.88914966583252\n",
            "1899 8.98213005065918\n",
            "1999 8.934618949890137\n",
            "Result: y = 0.0005021418328396976 + tensor([0.8562], grad_fn=<SelectBackward>)x +      0.0005021427641622722x^2 + -0.09385624527931213x^3\n"
          ],
          "name": "stdout"
        }
      ]
    },
    {
      "cell_type": "markdown",
      "metadata": {
        "id": "4_u5SRC1ipHc"
      },
      "source": [
        "# Custom nn Module"
      ]
    },
    {
      "cell_type": "code",
      "metadata": {
        "colab": {
          "base_uri": "https://localhost:8080/"
        },
        "id": "e0Qb3D8tiXir",
        "outputId": "d9c900a7-78c0-4fb9-fb9b-a785044ea476"
      },
      "source": [
        "import torch\n",
        "import math\n",
        "\n",
        "\n",
        "class Polynomial3(torch.nn.Module):\n",
        "    def __init__(self):\n",
        "        \"\"\"\n",
        "        생성자에서 4 개의 매개 변수를 인스턴스화하고 멤버변수로 할당한다.\n",
        "        \"\"\"\n",
        "        super().__init__()\n",
        "        self.a = torch.nn.Parameter(torch.randn(()))\n",
        "        self.b = torch.nn.Parameter(torch.randn(()))\n",
        "        self.c = torch.nn.Parameter(torch.randn(()))\n",
        "        self.d = torch.nn.Parameter(torch.randn(()))\n",
        "\n",
        "    def forward(self, x):\n",
        "        return self.a + self.b * x + self.c + x ** 2 + self.d * x ** 3\n",
        "\n",
        "    def string(self):\n",
        "        \"\"\"\n",
        "        PyTorch 모듈에서 사용자 지정 메서드를 정의 할 수도 있다.\n",
        "        \"\"\"\n",
        "        return f'y = {self.a.item()} + {self.b.item()} x + {self.c.item()} x^2 + {self.d.item()} x^3'\n",
        "\n",
        "\n",
        "x = torch.linspace(-math.pi, math.pi, 2000)\n",
        "y = torch.sin(x)\n",
        "\n",
        "model = Polynomial3()\n",
        "\n",
        "criterion = torch.nn.MSELoss(reduction='sum')\n",
        "optimizer = torch.optim.SGD(model.parameters(), lr=1e-6)\n",
        "\n",
        "for t in range(2000):\n",
        "    y_pred = model(x)\n",
        "\n",
        "    loss = criterion(y_pred, y)\n",
        "    if t % 100 == 99:\n",
        "        print(t, loss.item())\n",
        "\n",
        "    optimizer.zero_grad()\n",
        "    loss.backward()\n",
        "    optimizer.step()\n",
        "\n",
        "print(f\"Result: {model.string()}\")"
      ],
      "execution_count": 6,
      "outputs": [
        {
          "output_type": "stream",
          "text": [
            "99 19698.212890625\n",
            "199 17865.951171875\n",
            "299 17486.072265625\n",
            "399 17401.716796875\n",
            "499 17379.40625\n",
            "599 17371.3671875\n",
            "699 17367.396484375\n",
            "799 17365.04296875\n",
            "899 17363.5390625\n",
            "999 17362.556640625\n",
            "1099 17361.91015625\n",
            "1199 17361.48046875\n",
            "1299 17361.19921875\n",
            "1399 17361.01171875\n",
            "1499 17360.88671875\n",
            "1599 17360.8046875\n",
            "1699 17360.751953125\n",
            "1799 17360.716796875\n",
            "1899 17360.693359375\n",
            "1999 17360.677734375\n",
            "Result: y = -1.9387927055358887 + 0.8513712882995605 x + -1.354352355003357 x^2 + -0.09256662428379059 x^3\n"
          ],
          "name": "stdout"
        }
      ]
    },
    {
      "cell_type": "markdown",
      "metadata": {
        "id": "2oe1X72R6ZtE"
      },
      "source": [
        "# 제어 흐름 + 가중치 공유"
      ]
    },
    {
      "cell_type": "code",
      "metadata": {
        "colab": {
          "base_uri": "https://localhost:8080/"
        },
        "id": "hg-FBQQlkBCj",
        "outputId": "b4d7cccf-e369-4e69-9216-231027be4d9d"
      },
      "source": [
        "import random\n",
        "import torch\n",
        "import math\n",
        "\n",
        "\n",
        "class DynamicNet(torch.nn.Module):\n",
        "    def __init__(self):\n",
        "        \"\"\"\n",
        "        생성자에서 5개의 매개변수를 인스턴스화하고 멤버로 할당한다.\n",
        "        \"\"\"\n",
        "        super().__init__()\n",
        "        self.a = torch.nn.Parameter(torch.randn(()))\n",
        "        self.b = torch.nn.Parameter(torch.randn(()))\n",
        "        self.c = torch.nn.Parameter(torch.randn(()))\n",
        "        self.d = torch.nn.Parameter(torch.randn(()))\n",
        "        self.e = torch.nn.Parameter(torch.randn(()))\n",
        "\n",
        "    def forward(self, x):\n",
        "        y = self.a + self.b * x + self.c * x ** 2 + self.d * x **3\n",
        "        for exp in range(4, random.randint(4, 6)):\n",
        "            y = y + self.e * x ** exp\n",
        "        return y\n",
        "\n",
        "    def string(self):\n",
        "        return f'y = {self.a.item()} + {self.b.item()} x + {self.c.item()} x^2 +\\\n",
        "        {self.d.item()} x^3 + {self.e.item()} x^4 ? + {self.e.item()} x^5 ?'\n",
        "\n",
        "\n",
        "x = torch.linspace(-math.pi, math.pi, 2000)\n",
        "y = torch.sin(x)\n",
        "\n",
        "model = DynamicNet()\n",
        "\n",
        "criterion = torch.nn.MSELoss(reduction='sum')\n",
        "optimizer = torch.optim.SGD(model.parameters(), lr=1e-8, momentum=0.9)\n",
        "\n",
        "for t in range(30000):\n",
        "    y_pred = model(x)\n",
        "\n",
        "    loss = criterion(y_pred, y)\n",
        "    if t % 2000 == 1999:\n",
        "        print(t, loss.item())\n",
        "\n",
        "    optimizer.zero_grad()\n",
        "    loss.backward()\n",
        "    optimizer.step()\n",
        "\n",
        "print(f\"Result: {model.string()}\")"
      ],
      "execution_count": 7,
      "outputs": [
        {
          "output_type": "stream",
          "text": [
            "1999 3686.485595703125\n",
            "3999 1656.988525390625\n",
            "5999 744.3120727539062\n",
            "7999 343.7672119140625\n",
            "9999 152.99716186523438\n",
            "11999 75.1351318359375\n",
            "13999 38.67062759399414\n",
            "15999 22.256267547607422\n",
            "17999 14.87530517578125\n",
            "19999 11.528840065002441\n",
            "21999 11.587810516357422\n",
            "23999 9.400721549987793\n",
            "25999 9.083019256591797\n",
            "27999 8.967328071594238\n",
            "29999 8.902935028076172\n",
            "Result: y = 0.005774965509772301 + 0.8520311117172241 x + -0.001510755275376141 x^2 +        -0.09294140338897705 x^3 + 0.0001134744961746037 x^4 ? + 0.0001134744961746037 x^5 ?\n"
          ],
          "name": "stdout"
        }
      ]
    }
  ]
}