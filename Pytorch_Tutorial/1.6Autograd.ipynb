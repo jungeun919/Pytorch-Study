{
  "nbformat": 4,
  "nbformat_minor": 0,
  "metadata": {
    "colab": {
      "name": "Autograd.ipynb",
      "provenance": [],
      "authorship_tag": "ABX9TyMhREpdsMU95dx6WZKDUDhl",
      "include_colab_link": true
    },
    "kernelspec": {
      "name": "python3",
      "display_name": "Python 3"
    }
  },
  "cells": [
    {
      "cell_type": "markdown",
      "metadata": {
        "id": "view-in-github",
        "colab_type": "text"
      },
      "source": [
        "<a href=\"https://colab.research.google.com/github/jungeun919/Pytorch_study/blob/main/Pytorch_Tutorial/1.6Autograd.ipynb\" target=\"_parent\"><img src=\"https://colab.research.google.com/assets/colab-badge.svg\" alt=\"Open In Colab\"/></a>"
      ]
    },
    {
      "cell_type": "markdown",
      "metadata": {
        "id": "AKrLxjgmQz01"
      },
      "source": [
        "# Autograd\r\n",
        "\r\n",
        "- Tensor의 모든 연산에 대한 자동 미분을 제공\r\n",
        "- .requires_grad=True: Tensor에서 이루어진 모든 연산을 추적, 기록\r\n",
        "- .backward(): 모든 변화도(gradient)를 자동 계산\r\n",
        "- Tensor의 변화도는 .grad 속성에 누적됨\r\n",
        "- .detach(): Tensor가 기록을 추적하는 것을 중단\r\n",
        "- with torch.no_grad(): : 기록을 추적하는 것을 방지<br>\r\n",
        "→ 변화도(gradient)는 필요없지만 requires_grad=True가 설정되어 학습 가능한 매개변수를 갖는 모델을 평가할 때 유용함"
      ]
    },
    {
      "cell_type": "code",
      "metadata": {
        "colab": {
          "base_uri": "https://localhost:8080/"
        },
        "id": "Zf-duzEbQwOp",
        "outputId": "3ab4e8cf-6971-46d0-a29a-dbdbae66db3b"
      },
      "source": [
        "import torch\r\n",
        "\r\n",
        "x = torch.ones(2, 2, requires_grad=True)\r\n",
        "print(x)"
      ],
      "execution_count": 13,
      "outputs": [
        {
          "output_type": "stream",
          "text": [
            "tensor([[1., 1.],\n",
            "        [1., 1.]], requires_grad=True)\n"
          ],
          "name": "stdout"
        }
      ]
    },
    {
      "cell_type": "code",
      "metadata": {
        "colab": {
          "base_uri": "https://localhost:8080/"
        },
        "id": "mrM2hukRS5VQ",
        "outputId": "0a6054de-31a7-4a7e-c347-5654ecc83c36"
      },
      "source": [
        "y = x + 2\r\n",
        "print(y)"
      ],
      "execution_count": 14,
      "outputs": [
        {
          "output_type": "stream",
          "text": [
            "tensor([[3., 3.],\n",
            "        [3., 3.]], grad_fn=<AddBackward0>)\n"
          ],
          "name": "stdout"
        }
      ]
    },
    {
      "cell_type": "code",
      "metadata": {
        "colab": {
          "base_uri": "https://localhost:8080/"
        },
        "id": "ZB7giigWTFeK",
        "outputId": "a50a2c42-1808-4519-b6ee-6edaad03e8d8"
      },
      "source": [
        "# y는 연산의 결과로 생성된 것이므로 grad_fn을 가짐\r\n",
        "print(y.grad_fn)"
      ],
      "execution_count": 15,
      "outputs": [
        {
          "output_type": "stream",
          "text": [
            "<AddBackward0 object at 0x7f8b106b7050>\n"
          ],
          "name": "stdout"
        }
      ]
    },
    {
      "cell_type": "code",
      "metadata": {
        "colab": {
          "base_uri": "https://localhost:8080/"
        },
        "id": "6OyZimQfTRgQ",
        "outputId": "302f06e2-79f1-414d-b1e2-baf6f63ce100"
      },
      "source": [
        "z = y * y * 3\r\n",
        "out = z.mean()\r\n",
        "print(z, out)"
      ],
      "execution_count": 16,
      "outputs": [
        {
          "output_type": "stream",
          "text": [
            "tensor([[27., 27.],\n",
            "        [27., 27.]], grad_fn=<MulBackward0>) tensor(27., grad_fn=<MeanBackward0>)\n"
          ],
          "name": "stdout"
        }
      ]
    },
    {
      "cell_type": "code",
      "metadata": {
        "colab": {
          "base_uri": "https://localhost:8080/"
        },
        "id": "6vMFYu2ZTX0b",
        "outputId": "4315b8c4-ca05-4036-d446-d0e8ad36b8d8"
      },
      "source": [
        "# .requires_grad_()는 기존 Tensor의 requires_grad 값을 바꿔치기하여 변경\r\n",
        "# 입력값이 지정되지 않으면 기본값은 False\r\n",
        "a = torch.randn(2, 2)\r\n",
        "a = ((a * 3) / (a - 1))\r\n",
        "print(a.requires_grad)\r\n",
        "a.requires_grad_(True)\r\n",
        "print(a.requires_grad)\r\n",
        "\r\n",
        "b = (a * a).sum()\r\n",
        "print(b.grad_fn)"
      ],
      "execution_count": 17,
      "outputs": [
        {
          "output_type": "stream",
          "text": [
            "False\n",
            "True\n",
            "<SumBackward0 object at 0x7f8b0bec6b50>\n"
          ],
          "name": "stdout"
        }
      ]
    },
    {
      "cell_type": "markdown",
      "metadata": {
        "id": "57SpZRwfULaF"
      },
      "source": [
        "# 변화도 (Gradient)"
      ]
    },
    {
      "cell_type": "code",
      "metadata": {
        "id": "1Vow1s1hUHB0"
      },
      "source": [
        "# 위에서 out(tensor(27., grad_fn=<MeanBackward0>))은 하나의 스칼라 값만 가지고 있기 때문에\r\n",
        "# out.backward() == out.backward(torch.tensor(1.))\r\n",
        "out.backward()"
      ],
      "execution_count": 18,
      "outputs": []
    },
    {
      "cell_type": "code",
      "metadata": {
        "colab": {
          "base_uri": "https://localhost:8080/"
        },
        "id": "RwNCKIUYUgJs",
        "outputId": "92ce6ae8-5fc3-435b-9aa2-11e56045ce53"
      },
      "source": [
        "# 변화도 d(out)/dx\r\n",
        "print(x.grad)"
      ],
      "execution_count": 19,
      "outputs": [
        {
          "output_type": "stream",
          "text": [
            "tensor([[4.5000, 4.5000],\n",
            "        [4.5000, 4.5000]])\n"
          ],
          "name": "stdout"
        }
      ]
    },
    {
      "cell_type": "markdown",
      "metadata": {
        "id": "pY3-ZGm6pDxQ"
      },
      "source": [
        "- 야코비안 행렬\r\n",
        "- 벡터 함수 y = f(x)에서 x에 다한 y의 변화도"
      ]
    },
    {
      "cell_type": "code",
      "metadata": {
        "id": "fktOkagpUmEi",
        "colab": {
          "base_uri": "https://localhost:8080/"
        },
        "outputId": "c4624c51-9768-4a28-df2e-916212053a25"
      },
      "source": [
        "# 벡터-야코비안 곱의 예제\r\n",
        "x = torch.randn(3, requires_grad=True)\r\n",
        "\r\n",
        "y = x * 2\r\n",
        "while y.data.norm() < 1000: # norm을 사용하여 점 사이의 거리를 계산\r\n",
        "    y = y * 2\r\n",
        "\r\n",
        "print(y)"
      ],
      "execution_count": 20,
      "outputs": [
        {
          "output_type": "stream",
          "text": [
            "tensor([ -711.1924, -1250.8550,   348.3162], grad_fn=<MulBackward0>)\n"
          ],
          "name": "stdout"
        }
      ]
    },
    {
      "cell_type": "markdown",
      "metadata": {
        "id": "Z55aykpsqIUX"
      },
      "source": [
        "* 위에서 y는 더 이상 스칼라 값이 아님\r\n",
        "* torch.autograd는 전체 야코비안을 직접 계산할 수 없음\r\n",
        "* 벡터-야코비안 곱은 backward에 해당 벡터를 인자로 제공하여 얻음"
      ]
    },
    {
      "cell_type": "code",
      "metadata": {
        "colab": {
          "base_uri": "https://localhost:8080/"
        },
        "id": "xRUisMBBp3e9",
        "outputId": "5b78fe3e-a8fc-4584-8393-94e19a190b0e"
      },
      "source": [
        "v = torch.tensor([0.1, 1.0, 0.0001], dtype=torch.float)\r\n",
        "y.backward(v)\r\n",
        "\r\n",
        "print(x.grad)"
      ],
      "execution_count": 21,
      "outputs": [
        {
          "output_type": "stream",
          "text": [
            "tensor([5.1200e+01, 5.1200e+02, 5.1200e-02])\n"
          ],
          "name": "stdout"
        }
      ]
    },
    {
      "cell_type": "code",
      "metadata": {
        "colab": {
          "base_uri": "https://localhost:8080/"
        },
        "id": "0DWIjgsfqihD",
        "outputId": "48a8ec17-80f0-4895-b21c-c925afbcbd8b"
      },
      "source": [
        "print(x.requires_grad)\r\n",
        "print((x ** 2).requires_grad)\r\n",
        "\r\n",
        "# .requires_grad=True인 Tensor의 연산 기록을 추적하는 것을 멈추도록 함\r\n",
        "with torch.no_grad():\r\n",
        "    print((x **2).requires_grad)"
      ],
      "execution_count": 22,
      "outputs": [
        {
          "output_type": "stream",
          "text": [
            "True\n",
            "True\n",
            "False\n"
          ],
          "name": "stdout"
        }
      ]
    },
    {
      "cell_type": "code",
      "metadata": {
        "colab": {
          "base_uri": "https://localhost:8080/"
        },
        "id": "bEUoPRbfq2Hr",
        "outputId": "425101ff-adb1-4c95-a882-b75a50153a65"
      },
      "source": [
        "# .detach()를 호출하여 내용물은 같지만 require_grad가 다른 새로운 Tensor를 가져옴\r\n",
        "print(x.requires_grad)\r\n",
        "y = x.detach()\r\n",
        "print(y.requires_grad)\r\n",
        "print(x.eq(y).all())"
      ],
      "execution_count": 23,
      "outputs": [
        {
          "output_type": "stream",
          "text": [
            "True\n",
            "False\n",
            "tensor(True)\n"
          ],
          "name": "stdout"
        }
      ]
    }
  ]
}