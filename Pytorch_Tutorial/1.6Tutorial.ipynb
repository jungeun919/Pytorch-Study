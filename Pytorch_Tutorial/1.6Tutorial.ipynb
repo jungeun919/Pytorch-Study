{
  "nbformat": 4,
  "nbformat_minor": 0,
  "metadata": {
    "colab": {
      "name": "Tutorial.ipynb",
      "provenance": [],
      "collapsed_sections": [],
      "authorship_tag": "ABX9TyNhTPHZoZyBSZhTRYVBHZ8M",
      "include_colab_link": true
    },
    "kernelspec": {
      "name": "python3",
      "display_name": "Python 3"
    }
  },
  "cells": [
    {
      "cell_type": "markdown",
      "metadata": {
        "id": "view-in-github",
        "colab_type": "text"
      },
      "source": [
        "<a href=\"https://colab.research.google.com/github/jungeun919/Pytorch_study/blob/main/Pytorch_Tutorial/1.6Tutorial.ipynb\" target=\"_parent\"><img src=\"https://colab.research.google.com/assets/colab-badge.svg\" alt=\"Open In Colab\"/></a>"
      ]
    },
    {
      "cell_type": "markdown",
      "metadata": {
        "id": "RuaCh4RgKL3M"
      },
      "source": [
        "# Tensor\r\n",
        "\r\n",
        "- numpy의 ndarray와 유사\r\n",
        "- GPU를 사용한 연산 가속 가능"
      ]
    },
    {
      "cell_type": "code",
      "metadata": {
        "colab": {
          "base_uri": "https://localhost:8080/"
        },
        "id": "Mgl1R09gJ-2a",
        "outputId": "2d837ea1-ace6-467a-f95e-5f356a22273a"
      },
      "source": [
        "from __future__ import print_function\r\n",
        "import torch\r\n",
        "\r\n",
        "# 초기화되지 않은 5x3 행렬\r\n",
        "x = torch.empty(5, 3)\r\n",
        "print(x)"
      ],
      "execution_count": 1,
      "outputs": [
        {
          "output_type": "stream",
          "text": [
            "tensor([[1.4057e+33, 3.0753e-41, 3.3631e-44],\n",
            "        [0.0000e+00,        nan, 3.0753e-41],\n",
            "        [1.1578e+27, 1.1362e+30, 7.1547e+22],\n",
            "        [4.5828e+30, 1.2121e+04, 7.1846e+22],\n",
            "        [9.2198e-39, 7.0374e+22, 4.4908e+32]])\n"
          ],
          "name": "stdout"
        }
      ]
    },
    {
      "cell_type": "code",
      "metadata": {
        "colab": {
          "base_uri": "https://localhost:8080/"
        },
        "id": "PMW2Z0PPKqNW",
        "outputId": "470d4d7f-14eb-426d-efb5-9869e4682f31"
      },
      "source": [
        "# 무작위로 초기화된 행렬\r\n",
        "x = torch.rand(5, 3)\r\n",
        "print(x)"
      ],
      "execution_count": 2,
      "outputs": [
        {
          "output_type": "stream",
          "text": [
            "tensor([[0.2869, 0.6917, 0.5935],\n",
            "        [0.0661, 0.8180, 0.0479],\n",
            "        [0.1911, 0.2763, 0.1364],\n",
            "        [0.6780, 0.8408, 0.5226],\n",
            "        [0.1736, 0.3055, 0.2187]])\n"
          ],
          "name": "stdout"
        }
      ]
    },
    {
      "cell_type": "code",
      "metadata": {
        "colab": {
          "base_uri": "https://localhost:8080/"
        },
        "id": "BPoiaehgK2dO",
        "outputId": "9908f9b7-b698-4679-d038-2eea0d9e3cdb"
      },
      "source": [
        "# 0으로 채워진 행렬\r\n",
        "x = torch.zeros(5, 3, dtype=torch.long)\r\n",
        "print(x)"
      ],
      "execution_count": 3,
      "outputs": [
        {
          "output_type": "stream",
          "text": [
            "tensor([[0, 0, 0],\n",
            "        [0, 0, 0],\n",
            "        [0, 0, 0],\n",
            "        [0, 0, 0],\n",
            "        [0, 0, 0]])\n"
          ],
          "name": "stdout"
        }
      ]
    },
    {
      "cell_type": "code",
      "metadata": {
        "colab": {
          "base_uri": "https://localhost:8080/"
        },
        "id": "xAVdkqamK9wp",
        "outputId": "44be0145-ccc3-42c5-9a33-379f0ec9c406"
      },
      "source": [
        "# 데이터로부터 tensor를 직접 생성\r\n",
        "x = torch.tensor([5.5, 3])\r\n",
        "print(x)"
      ],
      "execution_count": 4,
      "outputs": [
        {
          "output_type": "stream",
          "text": [
            "tensor([5.5000, 3.0000])\n"
          ],
          "name": "stdout"
        }
      ]
    },
    {
      "cell_type": "code",
      "metadata": {
        "colab": {
          "base_uri": "https://localhost:8080/"
        },
        "id": "s5qRG8iYLE11",
        "outputId": "1310eaa0-ce67-4ec8-cc44-faf1de154be0"
      },
      "source": [
        "# new_* 메소드는 크기를 받음\r\n",
        "x = x.new_ones(5, 3, dtype=torch.double)\r\n",
        "print(x)\r\n",
        "\r\n",
        "# dtype을 오버라이트함, 결과는 동일한 크기\r\n",
        "x = torch.randn_like(x, dtype=torch.float)\r\n",
        "print(x)"
      ],
      "execution_count": 5,
      "outputs": [
        {
          "output_type": "stream",
          "text": [
            "tensor([[1., 1., 1.],\n",
            "        [1., 1., 1.],\n",
            "        [1., 1., 1.],\n",
            "        [1., 1., 1.],\n",
            "        [1., 1., 1.]], dtype=torch.float64)\n",
            "tensor([[-1.5108,  0.5379,  0.0042],\n",
            "        [-0.2641,  0.3770,  0.5977],\n",
            "        [-2.1340,  0.6301, -0.4644],\n",
            "        [ 0.7316, -0.6637,  0.5746],\n",
            "        [-0.6569,  0.0916,  0.2427]])\n"
          ],
          "name": "stdout"
        }
      ]
    },
    {
      "cell_type": "code",
      "metadata": {
        "colab": {
          "base_uri": "https://localhost:8080/"
        },
        "id": "i_-I2YuZLm3L",
        "outputId": "0a288c25-e756-4da7-cc2e-a87b7483a9a7"
      },
      "source": [
        "# 행렬의 크기\r\n",
        "print(x.size())"
      ],
      "execution_count": 6,
      "outputs": [
        {
          "output_type": "stream",
          "text": [
            "torch.Size([5, 3])\n"
          ],
          "name": "stdout"
        }
      ]
    },
    {
      "cell_type": "markdown",
      "metadata": {
        "id": "wQgQlfY4L0ty"
      },
      "source": [
        "# 연산 (Operations)"
      ]
    },
    {
      "cell_type": "code",
      "metadata": {
        "colab": {
          "base_uri": "https://localhost:8080/"
        },
        "id": "8ePTBYmOLuop",
        "outputId": "6d9d56b2-3b48-448f-c93f-8a271b70e5a2"
      },
      "source": [
        "# 덧셈\r\n",
        "x = torch.rand(5, 3)\r\n",
        "y = torch.rand(5, 3)\r\n",
        "print(x + y)"
      ],
      "execution_count": 7,
      "outputs": [
        {
          "output_type": "stream",
          "text": [
            "tensor([[0.7624, 0.7752, 1.0940],\n",
            "        [0.2289, 1.7971, 0.8011],\n",
            "        [0.1394, 0.3479, 0.7950],\n",
            "        [1.0153, 1.1867, 1.2389],\n",
            "        [1.2079, 0.2673, 0.9827]])\n"
          ],
          "name": "stdout"
        }
      ]
    },
    {
      "cell_type": "code",
      "metadata": {
        "colab": {
          "base_uri": "https://localhost:8080/"
        },
        "id": "36hOxsDNL9YU",
        "outputId": "4ecb1247-8a1f-425c-aab5-8816cce81283"
      },
      "source": [
        "print(torch.add(x, y))"
      ],
      "execution_count": 8,
      "outputs": [
        {
          "output_type": "stream",
          "text": [
            "tensor([[0.7624, 0.7752, 1.0940],\n",
            "        [0.2289, 1.7971, 0.8011],\n",
            "        [0.1394, 0.3479, 0.7950],\n",
            "        [1.0153, 1.1867, 1.2389],\n",
            "        [1.2079, 0.2673, 0.9827]])\n"
          ],
          "name": "stdout"
        }
      ]
    },
    {
      "cell_type": "code",
      "metadata": {
        "colab": {
          "base_uri": "https://localhost:8080/"
        },
        "id": "PXPnlzuIMGXJ",
        "outputId": "7d696e87-1a52-4c52-bf54-18be32cd189d"
      },
      "source": [
        "# 결과(result) tensor를 인자로 제공\r\n",
        "result = torch.empty(5, 3)\r\n",
        "torch.add(x, y, out=result)\r\n",
        "print(result)"
      ],
      "execution_count": 9,
      "outputs": [
        {
          "output_type": "stream",
          "text": [
            "tensor([[0.7624, 0.7752, 1.0940],\n",
            "        [0.2289, 1.7971, 0.8011],\n",
            "        [0.1394, 0.3479, 0.7950],\n",
            "        [1.0153, 1.1867, 1.2389],\n",
            "        [1.2079, 0.2673, 0.9827]])\n"
          ],
          "name": "stdout"
        }
      ]
    },
    {
      "cell_type": "code",
      "metadata": {
        "colab": {
          "base_uri": "https://localhost:8080/"
        },
        "id": "d0k9ODhhMVFd",
        "outputId": "95d62b97-e6c3-4c3e-ab27-651e6fb2ab6d"
      },
      "source": [
        "# 바꿔치기(in-place) 방식으로 tensor의 값을 변경하는 연산 뒤에는 _가 붙음\r\n",
        "# y에 x 더하기\r\n",
        "y.add_(x)\r\n",
        "print(y)"
      ],
      "execution_count": 10,
      "outputs": [
        {
          "output_type": "stream",
          "text": [
            "tensor([[0.7624, 0.7752, 1.0940],\n",
            "        [0.2289, 1.7971, 0.8011],\n",
            "        [0.1394, 0.3479, 0.7950],\n",
            "        [1.0153, 1.1867, 1.2389],\n",
            "        [1.2079, 0.2673, 0.9827]])\n"
          ],
          "name": "stdout"
        }
      ]
    },
    {
      "cell_type": "code",
      "metadata": {
        "colab": {
          "base_uri": "https://localhost:8080/"
        },
        "id": "6MIvXUS-M6D0",
        "outputId": "756823ee-35f5-4ba3-e412-0333916032da"
      },
      "source": [
        "# 인덱스 표기 방법\r\n",
        "print(x)\r\n",
        "print(x[:, 1])"
      ],
      "execution_count": 11,
      "outputs": [
        {
          "output_type": "stream",
          "text": [
            "tensor([[0.6579, 0.0378, 0.4569],\n",
            "        [0.1472, 0.9591, 0.6253],\n",
            "        [0.0943, 0.3070, 0.1912],\n",
            "        [0.3639, 0.9350, 0.3914],\n",
            "        [0.4720, 0.1044, 0.8068]])\n",
            "tensor([0.0378, 0.9591, 0.3070, 0.9350, 0.1044])\n"
          ],
          "name": "stdout"
        }
      ]
    },
    {
      "cell_type": "code",
      "metadata": {
        "colab": {
          "base_uri": "https://localhost:8080/"
        },
        "id": "w3dzSHX8NIrt",
        "outputId": "29a63943-62cb-40d2-bef5-48590154c33b"
      },
      "source": [
        "# 크기 변경\r\n",
        "# tensor의 크기나 모양을 변경하고자 할 때 torch.view 사용\r\n",
        "x = torch.randn(4, 4)\r\n",
        "y = x.view(16)\r\n",
        "z = x.view(-1, 8)\r\n",
        "print(x.size(), y.size(), z.size())"
      ],
      "execution_count": 12,
      "outputs": [
        {
          "output_type": "stream",
          "text": [
            "torch.Size([4, 4]) torch.Size([16]) torch.Size([2, 8])\n"
          ],
          "name": "stdout"
        }
      ]
    },
    {
      "cell_type": "code",
      "metadata": {
        "colab": {
          "base_uri": "https://localhost:8080/"
        },
        "id": "U0yOlXzhNa3z",
        "outputId": "85a60b7b-61f1-4028-b3d9-691d0fd42739"
      },
      "source": [
        "# tensor에 하나의 값만 존재한다면 .item()으로 숫자 값을 얻을 수 있음\r\n",
        "x = torch.randn(1)\r\n",
        "print(x)\r\n",
        "print(x.item())"
      ],
      "execution_count": 13,
      "outputs": [
        {
          "output_type": "stream",
          "text": [
            "tensor([0.5748])\n",
            "0.5748134255409241\n"
          ],
          "name": "stdout"
        }
      ]
    },
    {
      "cell_type": "markdown",
      "metadata": {
        "id": "wjdUXmgbN3u6"
      },
      "source": [
        "# Torch Tensor를 Numpy 배열로 변환\r\n",
        "\r\n",
        "- Torch Tensor가 CPU상에 있다면, Torch Tensor와 Numpy 배열은 메모리 공간을 공유함\r\n",
        "- 하나를 변경하면 다른 하나도 변경됨"
      ]
    },
    {
      "cell_type": "code",
      "metadata": {
        "colab": {
          "base_uri": "https://localhost:8080/"
        },
        "id": "4-5GgSKNNoqT",
        "outputId": "d5a069d7-0362-42ce-a06d-2714952d637f"
      },
      "source": [
        "a = torch.ones(5)\r\n",
        "print(a)"
      ],
      "execution_count": 14,
      "outputs": [
        {
          "output_type": "stream",
          "text": [
            "tensor([1., 1., 1., 1., 1.])\n"
          ],
          "name": "stdout"
        }
      ]
    },
    {
      "cell_type": "code",
      "metadata": {
        "colab": {
          "base_uri": "https://localhost:8080/"
        },
        "id": "tW5Ty6XkOO-z",
        "outputId": "01619985-1e06-4376-d600-bcb17b57853f"
      },
      "source": [
        "b = a.numpy()\r\n",
        "print(b)"
      ],
      "execution_count": 15,
      "outputs": [
        {
          "output_type": "stream",
          "text": [
            "[1. 1. 1. 1. 1.]\n"
          ],
          "name": "stdout"
        }
      ]
    },
    {
      "cell_type": "code",
      "metadata": {
        "colab": {
          "base_uri": "https://localhost:8080/"
        },
        "id": "FbTQqUVKOSAD",
        "outputId": "cb041a7e-5f06-4d9f-86e5-0bb4786c4be4"
      },
      "source": [
        "a.add_(1)\r\n",
        "print(a)\r\n",
        "print(b)"
      ],
      "execution_count": 16,
      "outputs": [
        {
          "output_type": "stream",
          "text": [
            "tensor([2., 2., 2., 2., 2.])\n",
            "[2. 2. 2. 2. 2.]\n"
          ],
          "name": "stdout"
        }
      ]
    },
    {
      "cell_type": "markdown",
      "metadata": {
        "id": "ZAjyAbeWOs5O"
      },
      "source": [
        "# Numpy 배열을 Torch Tensor로 변환"
      ]
    },
    {
      "cell_type": "code",
      "metadata": {
        "colab": {
          "base_uri": "https://localhost:8080/"
        },
        "id": "R3NiGugROb81",
        "outputId": "904d5d32-ef66-4818-9602-ff0527d39cdd"
      },
      "source": [
        "import numpy as np\r\n",
        "a = np.ones(5)\r\n",
        "b = torch.from_numpy(a)\r\n",
        "np.add(a, 1, out=a)\r\n",
        "print(a)\r\n",
        "print(b)"
      ],
      "execution_count": 17,
      "outputs": [
        {
          "output_type": "stream",
          "text": [
            "[2. 2. 2. 2. 2.]\n",
            "tensor([2., 2., 2., 2., 2.], dtype=torch.float64)\n"
          ],
          "name": "stdout"
        }
      ]
    },
    {
      "cell_type": "markdown",
      "metadata": {
        "id": "95wPY_IkPMFg"
      },
      "source": [
        "# CUDA Tensor\r\n",
        "\r\n",
        "- .to 메서드를 통해 Tensor를 어떠한 장치로도 이동 가능\r\n",
        "- .to 메서드는 dtype도 변경 가능"
      ]
    },
    {
      "cell_type": "code",
      "metadata": {
        "id": "szRpNOLwO8Qm"
      },
      "source": [
        "# CUDA가 사용 가능한 환경에서만 실행\r\n",
        "if torch.cuda.is_available():\r\n",
        "    device = torch.device(\"cuda\")\r\n",
        "    y = torch.ones_like(x, device=device)\r\n",
        "\r\n",
        "    x = x.to(device)\r\n",
        "\r\n",
        "    z = x + y\r\n",
        "    print(z)\r\n",
        "    print(z.to(\"cpu\", torch.double))"
      ],
      "execution_count": 18,
      "outputs": []
    }
  ]
}