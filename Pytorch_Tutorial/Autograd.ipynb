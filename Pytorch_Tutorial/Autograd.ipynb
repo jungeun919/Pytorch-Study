{
  "nbformat": 4,
  "nbformat_minor": 0,
  "metadata": {
    "colab": {
      "name": "Autograd.ipynb",
      "provenance": [],
      "collapsed_sections": [],
      "authorship_tag": "ABX9TyPaGB3fVsJ2sS+rTQIiuaJ5",
      "include_colab_link": true
    },
    "kernelspec": {
      "name": "python3",
      "display_name": "Python 3"
    }
  },
  "cells": [
    {
      "cell_type": "markdown",
      "metadata": {
        "id": "view-in-github",
        "colab_type": "text"
      },
      "source": [
        "<a href=\"https://colab.research.google.com/github/jungeun919/Pytorch_study/blob/main/Pytorch_Tutorial/Autograd.ipynb\" target=\"_parent\"><img src=\"https://colab.research.google.com/assets/colab-badge.svg\" alt=\"Open In Colab\"/></a>"
      ]
    },
    {
      "cell_type": "markdown",
      "metadata": {
        "id": "npEeLBdaAku_"
      },
      "source": [
        "# Automatic Differentiation with torch.autograd\n",
        "\n"
      ]
    },
    {
      "cell_type": "code",
      "metadata": {
        "id": "JYequaXI_3bs"
      },
      "source": [
        "import torch\n",
        "\n",
        "x = torch.ones(5) # input tensor\n",
        "y = torch.zeros(3) # expected output\n",
        "w = torch.randn(5, 3, requires_grad=True)\n",
        "b = torch.randn(3, requires_grad=True)\n",
        "z = torch.matmul(x, w) + b\n",
        "loss = torch.nn.functional.binary_cross_entropy_with_logits(z, y)"
      ],
      "execution_count": 1,
      "outputs": []
    },
    {
      "cell_type": "code",
      "metadata": {
        "colab": {
          "base_uri": "https://localhost:8080/"
        },
        "id": "Hw9ReGIXAjQW",
        "outputId": "1b4c9022-1b61-4228-bfe8-d978e88fe2be"
      },
      "source": [
        "# 역전파 함수에 대한 참조는 텐서의 grad_fn 속성에 저장됨\n",
        "print(\"Gradient function for z=\", z.grad_fn)\n",
        "print(\"Gradient function for loss=\", loss.grad_fn)"
      ],
      "execution_count": 2,
      "outputs": [
        {
          "output_type": "stream",
          "text": [
            "Gradient function for z= <AddBackward0 object at 0x7f91f65bddd0>\n",
            "Gradient function for loss= <BinaryCrossEntropyWithLogitsBackward object at 0x7f91f5d51910>\n"
          ],
          "name": "stdout"
        }
      ]
    },
    {
      "cell_type": "markdown",
      "metadata": {
        "id": "jBRN4qDvBXMa"
      },
      "source": [
        "# Gradient 계산"
      ]
    },
    {
      "cell_type": "code",
      "metadata": {
        "colab": {
          "base_uri": "https://localhost:8080/"
        },
        "id": "EkA2FmwIBTjt",
        "outputId": "26ed7c1c-f9de-431e-b905-860696155640"
      },
      "source": [
        "# 매개변수의 가중치를 최적화하려면 손실함수의 미분을 계산해야 함\n",
        "loss.backward()\n",
        "print(w.grad)\n",
        "print(b.grad)"
      ],
      "execution_count": 3,
      "outputs": [
        {
          "output_type": "stream",
          "text": [
            "tensor([[0.1490, 0.0846, 0.2447],\n",
            "        [0.1490, 0.0846, 0.2447],\n",
            "        [0.1490, 0.0846, 0.2447],\n",
            "        [0.1490, 0.0846, 0.2447],\n",
            "        [0.1490, 0.0846, 0.2447]])\n",
            "tensor([0.1490, 0.0846, 0.2447])\n"
          ],
          "name": "stdout"
        }
      ]
    },
    {
      "cell_type": "markdown",
      "metadata": {
        "id": "yMO7YM6SBxCI"
      },
      "source": [
        "# Gradient Tracking 비활성화"
      ]
    },
    {
      "cell_type": "code",
      "metadata": {
        "colab": {
          "base_uri": "https://localhost:8080/"
        },
        "id": "hlu28o80BtI3",
        "outputId": "525a1ac1-7e72-4cc2-cefe-720bc4ff9227"
      },
      "source": [
        "# torch.no_grad()을 통해 계산 추적을 중지\n",
        "z = torch.matmul(x, w) + b\n",
        "print(z.requires_grad)\n",
        "\n",
        "with torch.no_grad():\n",
        "    z = torch.matmul(x, w) + b\n",
        "print(z.requires_grad)"
      ],
      "execution_count": 4,
      "outputs": [
        {
          "output_type": "stream",
          "text": [
            "True\n",
            "False\n"
          ],
          "name": "stdout"
        }
      ]
    },
    {
      "cell_type": "code",
      "metadata": {
        "colab": {
          "base_uri": "https://localhost:8080/"
        },
        "id": "3SkNUgtVCLym",
        "outputId": "85df9897-ad09-45e9-b174-086853fd172f"
      },
      "source": [
        "# 위와 동일한 결과를 얻는 또 다른 방법은 detach() 메서드 사용\n",
        "z = torch.matmul(x, w) + b\n",
        "z_det = z.detach()\n",
        "print(z_det.requires_grad)"
      ],
      "execution_count": 5,
      "outputs": [
        {
          "output_type": "stream",
          "text": [
            "False\n"
          ],
          "name": "stdout"
        }
      ]
    }
  ]
}