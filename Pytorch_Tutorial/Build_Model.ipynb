{
  "nbformat": 4,
  "nbformat_minor": 0,
  "metadata": {
    "colab": {
      "name": "Build_Model.ipynb",
      "provenance": [],
      "collapsed_sections": [],
      "authorship_tag": "ABX9TyODWUIE2DC5dKnDwaoK+KRI",
      "include_colab_link": true
    },
    "kernelspec": {
      "name": "python3",
      "display_name": "Python 3"
    }
  },
  "cells": [
    {
      "cell_type": "markdown",
      "metadata": {
        "id": "view-in-github",
        "colab_type": "text"
      },
      "source": [
        "<a href=\"https://colab.research.google.com/github/jungeun919/Pytorch_study/blob/main/Pytorch_Tutorial/Build_Model.ipynb\" target=\"_parent\"><img src=\"https://colab.research.google.com/assets/colab-badge.svg\" alt=\"Open In Colab\"/></a>"
      ]
    },
    {
      "cell_type": "markdown",
      "metadata": {
        "id": "bF0cOEHa5e3K"
      },
      "source": [
        "# 신경망 구축"
      ]
    },
    {
      "cell_type": "code",
      "metadata": {
        "id": "ZOHdb4xX5auJ"
      },
      "source": [
        "import os\n",
        "import torch\n",
        "from torch import nn\n",
        "from torch.utils.data import DataLoader\n",
        "from torchvision import datasets, transforms"
      ],
      "execution_count": 1,
      "outputs": []
    },
    {
      "cell_type": "code",
      "metadata": {
        "colab": {
          "base_uri": "https://localhost:8080/"
        },
        "id": "xh5A_vrn5zMx",
        "outputId": "9d11813d-6a1e-40ac-ac07-d61273239740"
      },
      "source": [
        "# torch.cuda를 사용할 수 있는 확인\n",
        "device = 'cuda' if torch.cuda.is_available() else 'cpu'\n",
        "print(\"Using {} device\".format(device))"
      ],
      "execution_count": 2,
      "outputs": [
        {
          "output_type": "stream",
          "text": [
            "Using cpu device\n"
          ],
          "name": "stdout"
        }
      ]
    },
    {
      "cell_type": "markdown",
      "metadata": {
        "id": "z5FGOzVb6K-s"
      },
      "source": [
        "# 클래스 정의"
      ]
    },
    {
      "cell_type": "code",
      "metadata": {
        "id": "dlhdDHd-6GT7"
      },
      "source": [
        "class NeuralNetwork(nn.Module):\n",
        "    def __init__(self):\n",
        "        super(NeuralNetwork, self).__init__()\n",
        "        self.flatten = nn.Flatten()\n",
        "        self.linear_relu_stack = nn.Sequential(\n",
        "            nn.Linear(28*28, 512),\n",
        "            nn.ReLU(),\n",
        "            nn.Linear(512, 512),\n",
        "            nn.ReLU(),\n",
        "            nn.Linear(512, 10),\n",
        "            nn.ReLU()\n",
        "        )\n",
        "\n",
        "    def forward(self, x):\n",
        "        x = self.flatten(x)\n",
        "        logits = self.linear_relu_stack(x)\n",
        "        return logits"
      ],
      "execution_count": 3,
      "outputs": []
    },
    {
      "cell_type": "code",
      "metadata": {
        "colab": {
          "base_uri": "https://localhost:8080/"
        },
        "id": "wwVR-fN066jR",
        "outputId": "de5f22c2-e6f5-4ec7-a775-961f1fa299e9"
      },
      "source": [
        "model = NeuralNetwork().to(device)\n",
        "print(model)"
      ],
      "execution_count": 4,
      "outputs": [
        {
          "output_type": "stream",
          "text": [
            "NeuralNetwork(\n",
            "  (flatten): Flatten(start_dim=1, end_dim=-1)\n",
            "  (linear_relu_stack): Sequential(\n",
            "    (0): Linear(in_features=784, out_features=512, bias=True)\n",
            "    (1): ReLU()\n",
            "    (2): Linear(in_features=512, out_features=512, bias=True)\n",
            "    (3): ReLU()\n",
            "    (4): Linear(in_features=512, out_features=10, bias=True)\n",
            "    (5): ReLU()\n",
            "  )\n",
            ")\n"
          ],
          "name": "stdout"
        }
      ]
    },
    {
      "cell_type": "code",
      "metadata": {
        "colab": {
          "base_uri": "https://localhost:8080/"
        },
        "id": "HD2bhrl17DOc",
        "outputId": "06232210-fc0f-4d3a-c110-d348752bed34"
      },
      "source": [
        "# 모델을 사용하기 위해 입력 데이터를 전달\n",
        "# 모델의 forward는 일부 백그라운드 작업과 함께 실행\n",
        "# nn.Softmax 모듈의 인스턴스를 통해 예측 확률을 얻음\n",
        "X = torch.rand(1, 28, 28, device=device)\n",
        "logits = model(X)\n",
        "pred_probab = nn.Softmax(dim=1)(logits)\n",
        "y_pred = pred_probab.argmax(1)\n",
        "print(f\"Predicted class: {y_pred}\")"
      ],
      "execution_count": 5,
      "outputs": [
        {
          "output_type": "stream",
          "text": [
            "Predicted class: tensor([9])\n"
          ],
          "name": "stdout"
        }
      ]
    },
    {
      "cell_type": "markdown",
      "metadata": {
        "id": "rA25H-sO8KSI"
      },
      "source": [
        "# 모델 레이어"
      ]
    },
    {
      "cell_type": "code",
      "metadata": {
        "colab": {
          "base_uri": "https://localhost:8080/"
        },
        "id": "ev9pCRQw7v-O",
        "outputId": "c7382b9b-36ae-4ee7-f05f-6884156e7674"
      },
      "source": [
        "# 28x28 크기의 이미지 3개로 구성된 sample minibatch를 통해\n",
        "# 네트워크를 통과할 때 어떻게 변화되는지 관찰\n",
        "input_image = torch.rand(3, 28, 28)\n",
        "print(input_image.size())"
      ],
      "execution_count": 6,
      "outputs": [
        {
          "output_type": "stream",
          "text": [
            "torch.Size([3, 28, 28])\n"
          ],
          "name": "stdout"
        }
      ]
    },
    {
      "cell_type": "markdown",
      "metadata": {
        "id": "RtvsCCGQ9jXY"
      },
      "source": [
        "### nn.Flatten"
      ]
    },
    {
      "cell_type": "code",
      "metadata": {
        "colab": {
          "base_uri": "https://localhost:8080/"
        },
        "id": "xVEHBgF98oRy",
        "outputId": "3def755c-5784-47dc-871f-e276ed1f5196"
      },
      "source": [
        "# 레이어를 초기화하여 28x28 이미지를 784 픽셀 값의 연속 배열로 변환\n",
        "# minibatch 차원(dim=0)이 유지됨\n",
        "flatten = nn.Flatten()\n",
        "flat_image = flatten(input_image)\n",
        "print(flat_image.size())"
      ],
      "execution_count": 7,
      "outputs": [
        {
          "output_type": "stream",
          "text": [
            "torch.Size([3, 784])\n"
          ],
          "name": "stdout"
        }
      ]
    },
    {
      "cell_type": "markdown",
      "metadata": {
        "id": "dSNnvBST9lT6"
      },
      "source": [
        "### nn.Linear"
      ]
    },
    {
      "cell_type": "code",
      "metadata": {
        "colab": {
          "base_uri": "https://localhost:8080/"
        },
        "id": "O7k0aQzB9FIY",
        "outputId": "a23b58cf-41a4-456b-9110-d626e8f39b33"
      },
      "source": [
        "layer1 = nn.Linear(in_features=28*28, out_features=20)\n",
        "hidden1 = layer1(flat_image)\n",
        "print(hidden1.size())"
      ],
      "execution_count": 8,
      "outputs": [
        {
          "output_type": "stream",
          "text": [
            "torch.Size([3, 20])\n"
          ],
          "name": "stdout"
        }
      ]
    },
    {
      "cell_type": "markdown",
      "metadata": {
        "id": "5xGwYGfR9pK9"
      },
      "source": [
        "### nn.ReLU"
      ]
    },
    {
      "cell_type": "code",
      "metadata": {
        "colab": {
          "base_uri": "https://localhost:8080/"
        },
        "id": "cFR71U9_9h7F",
        "outputId": "ed1ccff6-0fd2-4a3b-f15b-d3c0117e3162"
      },
      "source": [
        "print(f\"Before ReLU: {hidden1}\\n\\n\")\n",
        "hidden1 = nn.ReLU()(hidden1)\n",
        "print(f\"After ReLU: {hidden1}\")"
      ],
      "execution_count": 9,
      "outputs": [
        {
          "output_type": "stream",
          "text": [
            "Before ReLU: tensor([[ 0.3124, -0.2604,  0.0015,  0.4191, -0.7274,  0.0919,  0.2043, -0.2015,\n",
            "          0.3797,  0.5032, -0.0997,  0.3010,  0.0109,  0.1927, -0.3203, -0.4417,\n",
            "          0.3473, -0.4110,  0.5386,  0.1591],\n",
            "        [ 0.1900,  0.2311, -0.0347,  0.0456, -0.4166,  0.0210, -0.1937, -0.0599,\n",
            "          0.4571,  0.5273, -0.0536,  0.5482, -0.2114,  0.6159, -0.3757, -0.2620,\n",
            "          0.0684, -0.2726,  0.4253, -0.0046],\n",
            "        [ 0.4886, -0.2812,  0.0412,  0.1820, -0.5407,  0.2026,  0.3431,  0.1188,\n",
            "          0.6419,  0.1881, -0.2943,  0.0508,  0.0628,  0.4677, -0.3121, -0.1955,\n",
            "          0.0794, -0.2063,  0.6513,  0.0589]], grad_fn=<AddmmBackward>)\n",
            "\n",
            "\n",
            "After ReLU: tensor([[0.3124, 0.0000, 0.0015, 0.4191, 0.0000, 0.0919, 0.2043, 0.0000, 0.3797,\n",
            "         0.5032, 0.0000, 0.3010, 0.0109, 0.1927, 0.0000, 0.0000, 0.3473, 0.0000,\n",
            "         0.5386, 0.1591],\n",
            "        [0.1900, 0.2311, 0.0000, 0.0456, 0.0000, 0.0210, 0.0000, 0.0000, 0.4571,\n",
            "         0.5273, 0.0000, 0.5482, 0.0000, 0.6159, 0.0000, 0.0000, 0.0684, 0.0000,\n",
            "         0.4253, 0.0000],\n",
            "        [0.4886, 0.0000, 0.0412, 0.1820, 0.0000, 0.2026, 0.3431, 0.1188, 0.6419,\n",
            "         0.1881, 0.0000, 0.0508, 0.0628, 0.4677, 0.0000, 0.0000, 0.0794, 0.0000,\n",
            "         0.6513, 0.0589]], grad_fn=<ReluBackward0>)\n"
          ],
          "name": "stdout"
        }
      ]
    },
    {
      "cell_type": "markdown",
      "metadata": {
        "id": "_P8_ZbZp-M0C"
      },
      "source": [
        "### nn.Sequential"
      ]
    },
    {
      "cell_type": "code",
      "metadata": {
        "id": "VKXC9mKz-Fhv"
      },
      "source": [
        "seq_modules = nn.Sequential(\n",
        "    flatten,\n",
        "    layer1,\n",
        "    nn.ReLU(),\n",
        "    nn.Linear(20, 10)\n",
        ")\n",
        "\n",
        "input_image = torch.rand(3, 28, 28)\n",
        "logits = seq_modules(input_image)"
      ],
      "execution_count": 10,
      "outputs": []
    },
    {
      "cell_type": "markdown",
      "metadata": {
        "id": "qyt5sJ2z-fg6"
      },
      "source": [
        "### nn.Softmax"
      ]
    },
    {
      "cell_type": "code",
      "metadata": {
        "id": "Bkn94wzz-eOt"
      },
      "source": [
        "softmax = nn.Softmax(dim=1)\n",
        "pred_probab = softmax(logits)"
      ],
      "execution_count": 11,
      "outputs": []
    },
    {
      "cell_type": "markdown",
      "metadata": {
        "id": "lPjM2VzS-3e8"
      },
      "source": [
        "# 모델 매개변수 (Model Paremeters)\n",
        "\n",
        "- nn.Module은 모델 객체 내의 정의된 모든 필드를 자동으로 추적\n",
        "- parameters() 또는 named_parameters() 메서드를 사용하여 모든 매개변수에 엑세스 할 수 있음"
      ]
    },
    {
      "cell_type": "code",
      "metadata": {
        "colab": {
          "base_uri": "https://localhost:8080/"
        },
        "id": "IXzR8Rfc-yo0",
        "outputId": "4abe42f5-f670-4eb7-eeeb-3df612d8e7f9"
      },
      "source": [
        "print(\"Model structure: \", model, \"\\n\\n\")\n",
        "\n",
        "for name, param in model.named_parameters():\n",
        "    print(f\"Layer: {name} | Size: {param.size()} | Values: {param[:2]} \\n\")"
      ],
      "execution_count": 12,
      "outputs": [
        {
          "output_type": "stream",
          "text": [
            "Model structure:  NeuralNetwork(\n",
            "  (flatten): Flatten(start_dim=1, end_dim=-1)\n",
            "  (linear_relu_stack): Sequential(\n",
            "    (0): Linear(in_features=784, out_features=512, bias=True)\n",
            "    (1): ReLU()\n",
            "    (2): Linear(in_features=512, out_features=512, bias=True)\n",
            "    (3): ReLU()\n",
            "    (4): Linear(in_features=512, out_features=10, bias=True)\n",
            "    (5): ReLU()\n",
            "  )\n",
            ") \n",
            "\n",
            "\n",
            "Layer: linear_relu_stack.0.weight | Size: torch.Size([512, 784]) | Values: tensor([[ 0.0236,  0.0314,  0.0027,  ...,  0.0139,  0.0291, -0.0346],\n",
            "        [-0.0141,  0.0280, -0.0091,  ..., -0.0279, -0.0060,  0.0104]],\n",
            "       grad_fn=<SliceBackward>) \n",
            "\n",
            "Layer: linear_relu_stack.0.bias | Size: torch.Size([512]) | Values: tensor([0.0326, 0.0257], grad_fn=<SliceBackward>) \n",
            "\n",
            "Layer: linear_relu_stack.2.weight | Size: torch.Size([512, 512]) | Values: tensor([[ 0.0289, -0.0144, -0.0229,  ...,  0.0259,  0.0423,  0.0353],\n",
            "        [-0.0294, -0.0333, -0.0049,  ...,  0.0426, -0.0441,  0.0117]],\n",
            "       grad_fn=<SliceBackward>) \n",
            "\n",
            "Layer: linear_relu_stack.2.bias | Size: torch.Size([512]) | Values: tensor([ 0.0338, -0.0185], grad_fn=<SliceBackward>) \n",
            "\n",
            "Layer: linear_relu_stack.4.weight | Size: torch.Size([10, 512]) | Values: tensor([[-0.0250,  0.0009, -0.0048,  ..., -0.0087, -0.0184, -0.0028],\n",
            "        [-0.0233,  0.0380, -0.0289,  ...,  0.0061,  0.0294,  0.0302]],\n",
            "       grad_fn=<SliceBackward>) \n",
            "\n",
            "Layer: linear_relu_stack.4.bias | Size: torch.Size([10]) | Values: tensor([-0.0335, -0.0274], grad_fn=<SliceBackward>) \n",
            "\n"
          ],
          "name": "stdout"
        }
      ]
    }
  ]
}