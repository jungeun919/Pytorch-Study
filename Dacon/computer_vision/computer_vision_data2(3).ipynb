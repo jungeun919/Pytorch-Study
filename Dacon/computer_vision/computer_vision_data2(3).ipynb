{
  "nbformat": 4,
  "nbformat_minor": 0,
  "metadata": {
    "colab": {
      "name": "computer_vision_weights.ipynb",
      "provenance": [],
      "collapsed_sections": [],
      "machine_shape": "hm",
      "mount_file_id": "1jIJksL0Dirz3LRSt5Lm1BPD8LCFiFaJs",
      "authorship_tag": "ABX9TyOzVUJ+W51pm7KO895tGV7M",
      "include_colab_link": true
    },
    "kernelspec": {
      "name": "python3",
      "display_name": "Python 3"
    },
    "accelerator": "GPU",
    "widgets": {
      "application/vnd.jupyter.widget-state+json": {
        "06f4cf819986436d9227a2f398bcac5c": {
          "model_module": "@jupyter-widgets/controls",
          "model_name": "HBoxModel",
          "state": {
            "_view_name": "HBoxView",
            "_dom_classes": [],
            "_model_name": "HBoxModel",
            "_view_module": "@jupyter-widgets/controls",
            "_model_module_version": "1.5.0",
            "_view_count": null,
            "_view_module_version": "1.5.0",
            "box_style": "",
            "layout": "IPY_MODEL_27ef4ab302a949f284ad076bab8235ed",
            "_model_module": "@jupyter-widgets/controls",
            "children": [
              "IPY_MODEL_6a2139da14d440f8956668ab6b793ceb",
              "IPY_MODEL_01379f15e3214c4cb335db00ebe89117"
            ]
          }
        },
        "27ef4ab302a949f284ad076bab8235ed": {
          "model_module": "@jupyter-widgets/base",
          "model_name": "LayoutModel",
          "state": {
            "_view_name": "LayoutView",
            "grid_template_rows": null,
            "right": null,
            "justify_content": null,
            "_view_module": "@jupyter-widgets/base",
            "overflow": null,
            "_model_module_version": "1.2.0",
            "_view_count": null,
            "flex_flow": null,
            "width": null,
            "min_width": null,
            "border": null,
            "align_items": null,
            "bottom": null,
            "_model_module": "@jupyter-widgets/base",
            "top": null,
            "grid_column": null,
            "overflow_y": null,
            "overflow_x": null,
            "grid_auto_flow": null,
            "grid_area": null,
            "grid_template_columns": null,
            "flex": null,
            "_model_name": "LayoutModel",
            "justify_items": null,
            "grid_row": null,
            "max_height": null,
            "align_content": null,
            "visibility": null,
            "align_self": null,
            "height": null,
            "min_height": null,
            "padding": null,
            "grid_auto_rows": null,
            "grid_gap": null,
            "max_width": null,
            "order": null,
            "_view_module_version": "1.2.0",
            "grid_template_areas": null,
            "object_position": null,
            "object_fit": null,
            "grid_auto_columns": null,
            "margin": null,
            "display": null,
            "left": null
          }
        },
        "6a2139da14d440f8956668ab6b793ceb": {
          "model_module": "@jupyter-widgets/controls",
          "model_name": "FloatProgressModel",
          "state": {
            "_view_name": "ProgressView",
            "style": "IPY_MODEL_d116b65126684587b96fce5d2fe96a84",
            "_dom_classes": [],
            "description": " 59%",
            "_model_name": "FloatProgressModel",
            "bar_style": "danger",
            "max": 100,
            "_view_module": "@jupyter-widgets/controls",
            "_model_module_version": "1.5.0",
            "value": 59,
            "_view_count": null,
            "_view_module_version": "1.5.0",
            "orientation": "horizontal",
            "min": 0,
            "description_tooltip": null,
            "_model_module": "@jupyter-widgets/controls",
            "layout": "IPY_MODEL_e9d8b7cc6037427d903861f6752d5672"
          }
        },
        "01379f15e3214c4cb335db00ebe89117": {
          "model_module": "@jupyter-widgets/controls",
          "model_name": "HTMLModel",
          "state": {
            "_view_name": "HTMLView",
            "style": "IPY_MODEL_dd3e2a67a78641c7a87f11adb1b8720a",
            "_dom_classes": [],
            "description": "",
            "_model_name": "HTMLModel",
            "placeholder": "​",
            "_view_module": "@jupyter-widgets/controls",
            "_model_module_version": "1.5.0",
            "value": " 59/100 [00:28&lt;00:19,  2.11it/s]",
            "_view_count": null,
            "_view_module_version": "1.5.0",
            "description_tooltip": null,
            "_model_module": "@jupyter-widgets/controls",
            "layout": "IPY_MODEL_d057663b58ff44e8a9969188dca61652"
          }
        },
        "d116b65126684587b96fce5d2fe96a84": {
          "model_module": "@jupyter-widgets/controls",
          "model_name": "ProgressStyleModel",
          "state": {
            "_view_name": "StyleView",
            "_model_name": "ProgressStyleModel",
            "description_width": "initial",
            "_view_module": "@jupyter-widgets/base",
            "_model_module_version": "1.5.0",
            "_view_count": null,
            "_view_module_version": "1.2.0",
            "bar_color": null,
            "_model_module": "@jupyter-widgets/controls"
          }
        },
        "e9d8b7cc6037427d903861f6752d5672": {
          "model_module": "@jupyter-widgets/base",
          "model_name": "LayoutModel",
          "state": {
            "_view_name": "LayoutView",
            "grid_template_rows": null,
            "right": null,
            "justify_content": null,
            "_view_module": "@jupyter-widgets/base",
            "overflow": null,
            "_model_module_version": "1.2.0",
            "_view_count": null,
            "flex_flow": null,
            "width": null,
            "min_width": null,
            "border": null,
            "align_items": null,
            "bottom": null,
            "_model_module": "@jupyter-widgets/base",
            "top": null,
            "grid_column": null,
            "overflow_y": null,
            "overflow_x": null,
            "grid_auto_flow": null,
            "grid_area": null,
            "grid_template_columns": null,
            "flex": null,
            "_model_name": "LayoutModel",
            "justify_items": null,
            "grid_row": null,
            "max_height": null,
            "align_content": null,
            "visibility": null,
            "align_self": null,
            "height": null,
            "min_height": null,
            "padding": null,
            "grid_auto_rows": null,
            "grid_gap": null,
            "max_width": null,
            "order": null,
            "_view_module_version": "1.2.0",
            "grid_template_areas": null,
            "object_position": null,
            "object_fit": null,
            "grid_auto_columns": null,
            "margin": null,
            "display": null,
            "left": null
          }
        },
        "dd3e2a67a78641c7a87f11adb1b8720a": {
          "model_module": "@jupyter-widgets/controls",
          "model_name": "DescriptionStyleModel",
          "state": {
            "_view_name": "StyleView",
            "_model_name": "DescriptionStyleModel",
            "description_width": "",
            "_view_module": "@jupyter-widgets/base",
            "_model_module_version": "1.5.0",
            "_view_count": null,
            "_view_module_version": "1.2.0",
            "_model_module": "@jupyter-widgets/controls"
          }
        },
        "d057663b58ff44e8a9969188dca61652": {
          "model_module": "@jupyter-widgets/base",
          "model_name": "LayoutModel",
          "state": {
            "_view_name": "LayoutView",
            "grid_template_rows": null,
            "right": null,
            "justify_content": null,
            "_view_module": "@jupyter-widgets/base",
            "overflow": null,
            "_model_module_version": "1.2.0",
            "_view_count": null,
            "flex_flow": null,
            "width": null,
            "min_width": null,
            "border": null,
            "align_items": null,
            "bottom": null,
            "_model_module": "@jupyter-widgets/base",
            "top": null,
            "grid_column": null,
            "overflow_y": null,
            "overflow_x": null,
            "grid_auto_flow": null,
            "grid_area": null,
            "grid_template_columns": null,
            "flex": null,
            "_model_name": "LayoutModel",
            "justify_items": null,
            "grid_row": null,
            "max_height": null,
            "align_content": null,
            "visibility": null,
            "align_self": null,
            "height": null,
            "min_height": null,
            "padding": null,
            "grid_auto_rows": null,
            "grid_gap": null,
            "max_width": null,
            "order": null,
            "_view_module_version": "1.2.0",
            "grid_template_areas": null,
            "object_position": null,
            "object_fit": null,
            "grid_auto_columns": null,
            "margin": null,
            "display": null,
            "left": null
          }
        }
      }
    }
  },
  "cells": [
    {
      "cell_type": "markdown",
      "metadata": {
        "id": "view-in-github",
        "colab_type": "text"
      },
      "source": [
        "<a href=\"https://colab.research.google.com/github/jungeun919/Pytorch_study/blob/main/Dacon/computer_vision/computer_vision_data2(3).ipynb\" target=\"_parent\"><img src=\"https://colab.research.google.com/assets/colab-badge.svg\" alt=\"Open In Colab\"/></a>"
      ]
    },
    {
      "cell_type": "code",
      "metadata": {
        "id": "3oxt92m4GxGq"
      },
      "source": [
        "import os\n",
        "from typing import Tuple, Sequence, Callable\n",
        "import csv\n",
        "import cv2\n",
        "import pandas as pd\n",
        "from PIL import Image\n",
        "import torch\n",
        "import torch.optim as optim\n",
        "from torch import nn, Tensor\n",
        "from torch.utils.data import Dataset, DataLoader\n",
        "from torchsummary import summary\n",
        "from torch.utils.data.dataset import random_split\n",
        "from torch.cuda.amp import GradScaler\n",
        "\n",
        "from torchvision import transforms\n",
        "from torchvision.models import resnet101"
      ],
      "execution_count": 1,
      "outputs": []
    },
    {
      "cell_type": "markdown",
      "metadata": {
        "id": "HMONdOcrG2zk"
      },
      "source": [
        "# Customize Dataset"
      ]
    },
    {
      "cell_type": "code",
      "metadata": {
        "id": "iIecjNCsG1V6"
      },
      "source": [
        "class MnistDataset(Dataset):\n",
        "    def __init__(\n",
        "        self,\n",
        "        dir: os.PathLike,\n",
        "        image_ids: os.PathLike,\n",
        "        transforms: Sequence[Callable]\n",
        "    ) -> None:\n",
        "        self.dir = dir\n",
        "        self.transforms = transforms\n",
        "\n",
        "        self.labels = {}\n",
        "        with open(image_ids, 'r') as f:\n",
        "            reader = csv.reader(f)\n",
        "            next(reader)\n",
        "            for row in reader:\n",
        "                self.labels[int(row[0])] = list(map(int, row[1:]))\n",
        "\n",
        "        self.image_ids = list(self.labels.keys())\n",
        "\n",
        "    def __len__(self) -> int:\n",
        "        return len(self.image_ids)\n",
        "\n",
        "    def __getitem__(self, index: int) -> Tuple[Tensor]:\n",
        "        image_id = self.image_ids[index]\n",
        "        image = Image.open(\n",
        "            os.path.join(self.dir, f'{str(image_id).zfill(5)}.png')).convert('RGB')\n",
        "        target = np.array(self.labels.get(image_id)).astype(np.float32)\n",
        "\n",
        "        if self.transforms is not None:\n",
        "            image = self.transforms(image)\n",
        "\n",
        "        return image, target"
      ],
      "execution_count": 2,
      "outputs": []
    },
    {
      "cell_type": "markdown",
      "metadata": {
        "id": "e6m3jQnbG614"
      },
      "source": [
        "# Image Augmentation"
      ]
    },
    {
      "cell_type": "code",
      "metadata": {
        "id": "P11Y2FP7G5-5"
      },
      "source": [
        "transforms_train = transforms.Compose([\n",
        "    transforms.RandomRotation((90, 360)),\n",
        "    # transforms.RandomHorizontalFlip(p=0.5),\n",
        "    # transforms.RandomVerticalFlip(p=0.5),\n",
        "    transforms.RandomAffine((0, 360)),\n",
        "    transforms.Resize((256, 256)),\n",
        "    transforms.ToTensor(),\n",
        "    transforms.Normalize(\n",
        "        [0.485, 0.456, 0.406],\n",
        "        [0.229, 0.224, 0.225]\n",
        "    )\n",
        "])\n",
        "\n",
        "transforms_test = transforms.Compose([\n",
        "    transforms.ToTensor(),\n",
        "    transforms.Normalize(\n",
        "        [0.485, 0.456, 0.406],\n",
        "        [0.229, 0.224, 0.225]\n",
        "    )\n",
        "])"
      ],
      "execution_count": 3,
      "outputs": []
    },
    {
      "cell_type": "code",
      "metadata": {
        "id": "hpJcSwMFG-Ji"
      },
      "source": [
        "!unzip -qq /content/drive/MyDrive/Colab\\ Notebooks/dacon/computer_vision/2차\\ 배포/dirty_mnist_2nd.zip\n",
        "!unzip -qq /content/drive/MyDrive/Colab\\ Notebooks/dacon/computer_vision/2차\\ 배포/mnist_data.zip\n",
        "!unzip -qq /content/drive/MyDrive/Colab\\ Notebooks/dacon/computer_vision/2차\\ 배포/test_dirty_mnist_2nd.zip\n",
        "\n",
        "trainset = MnistDataset('/content', '/content/drive/MyDrive/Colab Notebooks/dacon/computer_vision/2차 배포/dirty_mnist_2nd_answer.csv', transforms_train)\n",
        "testset = MnistDataset('/content', '/content/drive/MyDrive/Colab Notebooks/dacon/computer_vision/2차 배포/sample_submission.csv', transforms_test)\n",
        "\n",
        "train_loader = DataLoader(trainset,batch_size=32, num_workers=0)\n",
        "test_loader = DataLoader(testset, batch_size=10, num_workers=0)"
      ],
      "execution_count": 4,
      "outputs": []
    },
    {
      "cell_type": "markdown",
      "metadata": {
        "id": "fP58TTClHPUG"
      },
      "source": [
        "# Resnet 101"
      ]
    },
    {
      "cell_type": "code",
      "metadata": {
        "id": "3DSDfbOvHNt2"
      },
      "source": [
        "class MnistModel(nn.Module):\n",
        "    def __init__(self) -> None:\n",
        "        super().__init__()\n",
        "        self.resnet = resnet101(pretrained=True)\n",
        "        self.classifier = nn.Linear(1000, 26)\n",
        "        nn.init.xavier_normal_(self.classifier.weight)\n",
        "\n",
        "    def forward(self, x):\n",
        "        x = self.resnet(x)\n",
        "        x = self.classifier(x)\n",
        "\n",
        "        return x\n",
        "\n",
        "device = torch.device('cuda' if torch.cuda.is_available() else 'cpu')\n",
        "model = MnistModel().to(device)\n",
        "# print(summary(model, (3, 256, 256)))"
      ],
      "execution_count": 5,
      "outputs": []
    },
    {
      "cell_type": "markdown",
      "metadata": {
        "id": "mwB4z8E0HbLI"
      },
      "source": [
        "# Practice"
      ]
    },
    {
      "cell_type": "code",
      "metadata": {
        "colab": {
          "base_uri": "https://localhost:8080/"
        },
        "id": "EaqLY_uJHeAO",
        "outputId": "81bdab5f-ac76-46e0-b746-af0617472142"
      },
      "source": [
        "import numpy as np\n",
        "\n",
        "optimizer = optim.Adam(model.parameters(), lr=1e-4, weight_decay=1e-5)\n",
        "criterion = nn.MultiLabelSoftMarginLoss()\n",
        "\n",
        "num_epochs = 20 # total: 25\n",
        "scaler = GradScaler()\n",
        "model.train()\n",
        "for epoch in range(num_epochs):\n",
        "    for i, (images, targets) in enumerate(train_loader):\n",
        "        optimizer.zero_grad()\n",
        "\n",
        "        images = images.to(device)\n",
        "        targets = targets.to(device)\n",
        "\n",
        "        outputs = model(images)\n",
        "        loss = criterion(outputs, targets)\n",
        "\n",
        "        scaler.scale(loss).backward()\n",
        "        scaler.step(optimizer)\n",
        "        scaler.update()\n",
        "\n",
        "        if (i+1) % 500 == 0:\n",
        "            outputs = outputs > 0.5\n",
        "            acc = (outputs == targets).float().mean()\n",
        "            print(f'{epoch}: {loss.item():.5f}, {acc.item():.5f}')"
      ],
      "execution_count": 7,
      "outputs": [
        {
          "output_type": "stream",
          "text": [
            "0: 0.68520, 0.54808\n",
            "0: 0.64972, 0.59856\n",
            "0: 0.62372, 0.61659\n",
            "1: 0.58905, 0.66587\n",
            "1: 0.56914, 0.67428\n",
            "1: 0.56239, 0.68990\n",
            "2: 0.51578, 0.73558\n",
            "2: 0.47748, 0.76562\n",
            "2: 0.51292, 0.74038\n",
            "3: 0.48342, 0.75721\n",
            "3: 0.45783, 0.77885\n",
            "3: 0.48494, 0.75120\n",
            "4: 0.46164, 0.77524\n",
            "4: 0.41956, 0.79808\n",
            "4: 0.44235, 0.79688\n",
            "5: 0.40248, 0.82332\n",
            "5: 0.39476, 0.82572\n",
            "5: 0.42818, 0.79928\n",
            "6: 0.42527, 0.81731\n",
            "6: 0.35590, 0.82933\n",
            "6: 0.41299, 0.80168\n",
            "7: 0.36258, 0.83894\n",
            "7: 0.36915, 0.84736\n",
            "7: 0.37084, 0.83413\n",
            "8: 0.37343, 0.82692\n",
            "8: 0.35428, 0.84736\n",
            "8: 0.38984, 0.83534\n",
            "9: 0.34095, 0.85817\n",
            "9: 0.31383, 0.86178\n",
            "9: 0.34167, 0.84255\n",
            "10: 0.33612, 0.85577\n",
            "10: 0.32979, 0.86538\n",
            "10: 0.33478, 0.85216\n",
            "11: 0.30307, 0.87260\n",
            "11: 0.28226, 0.87500\n",
            "11: 0.34986, 0.84255\n",
            "12: 0.33089, 0.85817\n",
            "12: 0.28993, 0.87981\n",
            "12: 0.30226, 0.86298\n",
            "13: 0.31647, 0.86659\n",
            "13: 0.30030, 0.87500\n",
            "13: 0.31397, 0.86659\n",
            "14: 0.30865, 0.87260\n",
            "14: 0.30411, 0.87740\n",
            "14: 0.28096, 0.88462\n",
            "15: 0.30534, 0.86298\n",
            "15: 0.28345, 0.88221\n",
            "15: 0.30779, 0.86779\n",
            "16: 0.30371, 0.87019\n",
            "16: 0.25886, 0.89543\n",
            "16: 0.26123, 0.89663\n",
            "17: 0.28315, 0.87620\n",
            "17: 0.27287, 0.88942\n",
            "17: 0.28393, 0.88341\n",
            "18: 0.28164, 0.87620\n",
            "18: 0.23528, 0.90745\n",
            "18: 0.25375, 0.89543\n",
            "19: 0.28263, 0.88702\n",
            "19: 0.25645, 0.90385\n",
            "19: 0.26160, 0.88822\n"
          ],
          "name": "stdout"
        }
      ]
    },
    {
      "cell_type": "code",
      "metadata": {
        "colab": {
          "base_uri": "https://localhost:8080/"
        },
        "id": "EIsPt_pyXqKA",
        "outputId": "c311d5fe-aa17-4aad-be19-bce252e4014e"
      },
      "source": [
        "!pip install torch-lr-finder"
      ],
      "execution_count": 10,
      "outputs": [
        {
          "output_type": "stream",
          "text": [
            "Collecting torch-lr-finder\n",
            "  Downloading https://files.pythonhosted.org/packages/ea/51/1a869067989a0fdaf18e49f0ee3aebfcb63470525245aac7dc390cfc676a/torch_lr_finder-0.2.1-py3-none-any.whl\n",
            "Requirement already satisfied: numpy in /usr/local/lib/python3.6/dist-packages (from torch-lr-finder) (1.19.5)\n",
            "Requirement already satisfied: tqdm in /usr/local/lib/python3.6/dist-packages (from torch-lr-finder) (4.41.1)\n",
            "Requirement already satisfied: packaging in /usr/local/lib/python3.6/dist-packages (from torch-lr-finder) (20.9)\n",
            "Requirement already satisfied: torch>=0.4.1 in /usr/local/lib/python3.6/dist-packages (from torch-lr-finder) (1.7.0+cu101)\n",
            "Requirement already satisfied: matplotlib in /usr/local/lib/python3.6/dist-packages (from torch-lr-finder) (3.2.2)\n",
            "Requirement already satisfied: pyparsing>=2.0.2 in /usr/local/lib/python3.6/dist-packages (from packaging->torch-lr-finder) (2.4.7)\n",
            "Requirement already satisfied: future in /usr/local/lib/python3.6/dist-packages (from torch>=0.4.1->torch-lr-finder) (0.16.0)\n",
            "Requirement already satisfied: dataclasses in /usr/local/lib/python3.6/dist-packages (from torch>=0.4.1->torch-lr-finder) (0.8)\n",
            "Requirement already satisfied: typing-extensions in /usr/local/lib/python3.6/dist-packages (from torch>=0.4.1->torch-lr-finder) (3.7.4.3)\n",
            "Requirement already satisfied: kiwisolver>=1.0.1 in /usr/local/lib/python3.6/dist-packages (from matplotlib->torch-lr-finder) (1.3.1)\n",
            "Requirement already satisfied: python-dateutil>=2.1 in /usr/local/lib/python3.6/dist-packages (from matplotlib->torch-lr-finder) (2.8.1)\n",
            "Requirement already satisfied: cycler>=0.10 in /usr/local/lib/python3.6/dist-packages (from matplotlib->torch-lr-finder) (0.10.0)\n",
            "Requirement already satisfied: six>=1.5 in /usr/local/lib/python3.6/dist-packages (from python-dateutil>=2.1->matplotlib->torch-lr-finder) (1.15.0)\n",
            "Installing collected packages: torch-lr-finder\n",
            "Successfully installed torch-lr-finder-0.2.1\n"
          ],
          "name": "stdout"
        }
      ]
    },
    {
      "cell_type": "code",
      "metadata": {
        "colab": {
          "base_uri": "https://localhost:8080/",
          "height": 383,
          "referenced_widgets": [
            "06f4cf819986436d9227a2f398bcac5c",
            "27ef4ab302a949f284ad076bab8235ed",
            "6a2139da14d440f8956668ab6b793ceb",
            "01379f15e3214c4cb335db00ebe89117",
            "d116b65126684587b96fce5d2fe96a84",
            "e9d8b7cc6037427d903861f6752d5672",
            "dd3e2a67a78641c7a87f11adb1b8720a",
            "d057663b58ff44e8a9969188dca61652"
          ]
        },
        "id": "P0smx83U8-DE",
        "outputId": "d29d5d79-6d7a-4e68-ebc9-8f72d9137855"
      },
      "source": [
        "from torch_lr_finder import LRFinder\n",
        "\n",
        "lr_finder = LRFinder(model, optimizer, criterion, device='cuda')\n",
        "lr_finder.range_test(train_loader, end_lr=10, num_iter=100, step_mode='exp')\n",
        "lr_finder.plot()\n",
        "lr_finder.reset()"
      ],
      "execution_count": 11,
      "outputs": [
        {
          "output_type": "display_data",
          "data": {
            "application/vnd.jupyter.widget-view+json": {
              "model_id": "06f4cf819986436d9227a2f398bcac5c",
              "version_minor": 0,
              "version_major": 2
            },
            "text/plain": [
              "HBox(children=(FloatProgress(value=0.0), HTML(value='')))"
            ]
          },
          "metadata": {
            "tags": []
          }
        },
        {
          "output_type": "stream",
          "text": [
            "Stopping early, the loss has diverged\n",
            "Learning rate search finished. See the graph with {finder_name}.plot()\n",
            "LR suggestion: steepest gradient\n",
            "Suggested LR: 3.20E-04\n"
          ],
          "name": "stdout"
        },
        {
          "output_type": "display_data",
          "data": {
            "image/png": "[encoded data removed]",
            "text/plain": [
              "<Figure size 432x288 with 1 Axes>"
            ]
          },
          "metadata": {
            "tags": [],
            "needs_background": "light"
          }
        }
      ]
    },
    {
      "cell_type": "code",
      "metadata": {
        "id": "SjXmVD8yHg6O"
      },
      "source": [
        "submit = pd.read_csv('/content/drive/MyDrive/Colab Notebooks/dacon/computer_vision/2차 배포/sample_submission.csv')\n",
        "\n",
        "model.eval()\n",
        "batch_size = test_loader.batch_size\n",
        "batch_index = 0\n",
        "for i, (images, targets) in enumerate(test_loader):\n",
        "    images = images.to(device)\n",
        "    targets = targets.to(device)\n",
        "    outputs = model(images)\n",
        "    outputs = outputs > 0.5\n",
        "    batch_index = i * batch_size\n",
        "    submit.iloc[batch_index:batch_index+batch_size, 1:] = \\\n",
        "        outputs.long().squeeze(0).detach().cpu().numpy()\n",
        "\n",
        "submit.to_csv('/content/drive/MyDrive/Colab Notebooks/dacon/computer_vision/2차 배포/sample_submission_5.csv', index=False)"
      ],
      "execution_count": 12,
      "outputs": []
    }
  ]
}